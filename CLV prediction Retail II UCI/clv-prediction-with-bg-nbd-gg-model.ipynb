{
 "cells": [
  {
   "cell_type": "markdown",
   "metadata": {},
   "source": [
    "# Customer Relationship Management"
   ]
  },
  {
   "cell_type": "markdown",
   "metadata": {},
   "source": [
    "In order to ensure efficiency and effectiveness in customer relations, it is necessary to first understand what the customer needs, to develop products suitable for this need, and then to present the product to the right customer, at the right time and at the right price. In this respect, CRM is the whole of the methods used by companies to make the relationship they have established with their existing or potential customers in the most efficient, effective and ultimately most profitable."
   ]
  },
  {
   "cell_type": "markdown",
   "metadata": {},
   "source": [
    "# Why use CRM?"
   ]
  },
  {
   "cell_type": "markdown",
   "metadata": {},
   "source": [
    "> Retaining existing customers is less costly than acquiring new customers. Therefore, increasing the value of our existing customers is the most important way to ensure growth."
   ]
  },
  {
   "cell_type": "markdown",
   "metadata": {
    "execution": {
     "iopub.execute_input": "2021-09-15T14:48:40.221064Z",
     "iopub.status.busy": "2021-09-15T14:48:40.220783Z",
     "iopub.status.idle": "2021-09-15T14:48:40.227988Z",
     "shell.execute_reply": "2021-09-15T14:48:40.226914Z",
     "shell.execute_reply.started": "2021-09-15T14:48:40.221035Z"
    }
   },
   "source": [
    "To provide a unique customer experience (CX), you will need a complete profile of your customer. You may need all kinds of data to create a customer profile. CRM techniques; It aggregates data from a variety of sources, including email, websites, physical stores, call centers, mobile sales, marketing and advertising efforts.\n",
    "\n",
    "Knowing who your customers are, what they want, your interactions with them in the past, and what your future interactions might look like is the focus of CRM."
   ]
  },
  {
   "cell_type": "markdown",
   "metadata": {},
   "source": [
    "# Customer Lifetime Value (CLTV)"
   ]
  },
  {
   "cell_type": "markdown",
   "metadata": {},
   "source": [
    "![](https://popupsmart.com/encyclopedia/user/pages/26.customer-lifetime-value-clv/customer-lifetime-value.jpg)"
   ]
  },
  {
   "cell_type": "markdown",
   "metadata": {},
   "source": [
    "“It is the total expected revenue from a company's entire lifetime relationship with a customer, less any expenses incurred for the customer.\n",
    "\n",
    "The customer value approach requires more variable and inclusive strategies rather than a static and uniform approach. Expansion, correct sales and cross-selling techniques, monitoring customer behavior, obtaining intelligence, making strategic decisions and applying are some of the methods to be used.\n",
    "\n",
    "You should use your customer services effectively for a positive customer experience. Every contact of the customer with your brand will be an opportunity to convey the values you will add to them.\n",
    "\n",
    "Higher customer lifetime value means more revenue for your business. Prioritize customer lifetime value to increase your profitability."
   ]
  },
  {
   "cell_type": "markdown",
   "metadata": {},
   "source": [
    "**How is Customer Lifetime Value calculated?**\n",
    "\n",
    "The CLTV account has many calculation metrics. Basically, the metrics to focus on are;\n",
    "* Average Order Value\n",
    "* Purchase Frequency\n",
    "* Profit Margin\n",
    "* Churn Rate\n",
    "* Customer Value\n",
    "* Customer Life Time Value"
   ]
  },
  {
   "cell_type": "markdown",
   "metadata": {},
   "source": [
    "![](https://survicate.com/wp-content/uploads/2019/05/clv-clevertap.jpg)"
   ]
  },
  {
   "cell_type": "markdown",
   "metadata": {},
   "source": [
    "# Key points to successfully apply CRM techniques:"
   ]
  },
  {
   "cell_type": "markdown",
   "metadata": {},
   "source": [
    "* Deliver Personalized Experiences\n",
    "* Improve Your Customer Service\n",
    "* Reward the Loyalty\n",
    "* Build Teams That Can Successfully Implement Your Strategy\n",
    "* Use Digital Channels Effectively\n",
    "* Take the First Step"
   ]
  },
  {
   "cell_type": "markdown",
   "metadata": {},
   "source": [
    "In this notebook, we will do the following topics step by step, respectively:\n",
    "* 1-Dataset Analysis\n",
    "* 2-Customer Lifetime Value Calculation\n",
    "* 3-Customer Lifetime Value Prediction"
   ]
  },
  {
   "cell_type": "markdown",
   "metadata": {},
   "source": [
    "As usual, we import the libraries we will use first. \n",
    "\n",
    "*In this prediction model we will additionally use the lifetimes library.*"
   ]
  },
  {
   "cell_type": "code",
   "execution_count": null,
   "metadata": {},
   "outputs": [],
   "source": [
    "#pip install lifetimes"
   ]
  },
  {
   "cell_type": "code",
   "execution_count": 1,
   "metadata": {
    "execution": {
     "iopub.execute_input": "2021-09-19T18:25:38.485239Z",
     "iopub.status.busy": "2021-09-19T18:25:38.484933Z",
     "iopub.status.idle": "2021-09-19T18:25:38.490999Z",
     "shell.execute_reply": "2021-09-19T18:25:38.490001Z",
     "shell.execute_reply.started": "2021-09-19T18:25:38.485211Z"
    }
   },
   "outputs": [],
   "source": [
    "import datetime as dt\n",
    "import pandas as pd\n",
    "import matplotlib.pyplot as plt\n",
    "from sklearn.preprocessing import MinMaxScaler\n",
    "\n",
    "from lifetimes import BetaGeoFitter\n",
    "from lifetimes import GammaGammaFitter\n",
    "from lifetimes.plotting import plot_period_transactions\n",
    "import seaborn as sns"
   ]
  },
  {
   "cell_type": "markdown",
   "metadata": {},
   "source": [
    "# 1) Exploring the Dataset:"
   ]
  },
  {
   "cell_type": "code",
   "execution_count": 2,
   "metadata": {
    "execution": {
     "iopub.execute_input": "2021-09-19T18:25:40.884166Z",
     "iopub.status.busy": "2021-09-19T18:25:40.883811Z",
     "iopub.status.idle": "2021-09-19T18:25:43.318149Z",
     "shell.execute_reply": "2021-09-19T18:25:43.317128Z",
     "shell.execute_reply.started": "2021-09-19T18:25:40.884133Z"
    }
   },
   "outputs": [],
   "source": [
    "df = pd.read_csv(\"online_retail_II.csv\")"
   ]
  },
  {
   "cell_type": "code",
   "execution_count": 3,
   "metadata": {
    "execution": {
     "iopub.execute_input": "2021-09-19T18:25:43.319824Z",
     "iopub.status.busy": "2021-09-19T18:25:43.319602Z",
     "iopub.status.idle": "2021-09-19T18:25:43.352427Z",
     "shell.execute_reply": "2021-09-19T18:25:43.351392Z",
     "shell.execute_reply.started": "2021-09-19T18:25:43.3198Z"
    }
   },
   "outputs": [
    {
     "data": {
      "text/html": [
       "<div>\n",
       "<style scoped>\n",
       "    .dataframe tbody tr th:only-of-type {\n",
       "        vertical-align: middle;\n",
       "    }\n",
       "\n",
       "    .dataframe tbody tr th {\n",
       "        vertical-align: top;\n",
       "    }\n",
       "\n",
       "    .dataframe thead th {\n",
       "        text-align: right;\n",
       "    }\n",
       "</style>\n",
       "<table border=\"1\" class=\"dataframe\">\n",
       "  <thead>\n",
       "    <tr style=\"text-align: right;\">\n",
       "      <th></th>\n",
       "      <th>Invoice</th>\n",
       "      <th>StockCode</th>\n",
       "      <th>Description</th>\n",
       "      <th>Quantity</th>\n",
       "      <th>InvoiceDate</th>\n",
       "      <th>Price</th>\n",
       "      <th>Customer ID</th>\n",
       "      <th>Country</th>\n",
       "    </tr>\n",
       "  </thead>\n",
       "  <tbody>\n",
       "    <tr>\n",
       "      <th>0</th>\n",
       "      <td>489434</td>\n",
       "      <td>85048</td>\n",
       "      <td>15CM CHRISTMAS GLASS BALL 20 LIGHTS</td>\n",
       "      <td>12</td>\n",
       "      <td>2009-12-01 07:45:00</td>\n",
       "      <td>6.95</td>\n",
       "      <td>13085.0</td>\n",
       "      <td>United Kingdom</td>\n",
       "    </tr>\n",
       "    <tr>\n",
       "      <th>1</th>\n",
       "      <td>489434</td>\n",
       "      <td>79323P</td>\n",
       "      <td>PINK CHERRY LIGHTS</td>\n",
       "      <td>12</td>\n",
       "      <td>2009-12-01 07:45:00</td>\n",
       "      <td>6.75</td>\n",
       "      <td>13085.0</td>\n",
       "      <td>United Kingdom</td>\n",
       "    </tr>\n",
       "    <tr>\n",
       "      <th>2</th>\n",
       "      <td>489434</td>\n",
       "      <td>79323W</td>\n",
       "      <td>WHITE CHERRY LIGHTS</td>\n",
       "      <td>12</td>\n",
       "      <td>2009-12-01 07:45:00</td>\n",
       "      <td>6.75</td>\n",
       "      <td>13085.0</td>\n",
       "      <td>United Kingdom</td>\n",
       "    </tr>\n",
       "    <tr>\n",
       "      <th>3</th>\n",
       "      <td>489434</td>\n",
       "      <td>22041</td>\n",
       "      <td>RECORD FRAME 7\" SINGLE SIZE</td>\n",
       "      <td>48</td>\n",
       "      <td>2009-12-01 07:45:00</td>\n",
       "      <td>2.10</td>\n",
       "      <td>13085.0</td>\n",
       "      <td>United Kingdom</td>\n",
       "    </tr>\n",
       "    <tr>\n",
       "      <th>4</th>\n",
       "      <td>489434</td>\n",
       "      <td>21232</td>\n",
       "      <td>STRAWBERRY CERAMIC TRINKET BOX</td>\n",
       "      <td>24</td>\n",
       "      <td>2009-12-01 07:45:00</td>\n",
       "      <td>1.25</td>\n",
       "      <td>13085.0</td>\n",
       "      <td>United Kingdom</td>\n",
       "    </tr>\n",
       "  </tbody>\n",
       "</table>\n",
       "</div>"
      ],
      "text/plain": [
       "  Invoice StockCode                          Description  Quantity  \\\n",
       "0  489434     85048  15CM CHRISTMAS GLASS BALL 20 LIGHTS        12   \n",
       "1  489434    79323P                   PINK CHERRY LIGHTS        12   \n",
       "2  489434    79323W                  WHITE CHERRY LIGHTS        12   \n",
       "3  489434     22041         RECORD FRAME 7\" SINGLE SIZE         48   \n",
       "4  489434     21232       STRAWBERRY CERAMIC TRINKET BOX        24   \n",
       "\n",
       "           InvoiceDate  Price  Customer ID         Country  \n",
       "0  2009-12-01 07:45:00   6.95      13085.0  United Kingdom  \n",
       "1  2009-12-01 07:45:00   6.75      13085.0  United Kingdom  \n",
       "2  2009-12-01 07:45:00   6.75      13085.0  United Kingdom  \n",
       "3  2009-12-01 07:45:00   2.10      13085.0  United Kingdom  \n",
       "4  2009-12-01 07:45:00   1.25      13085.0  United Kingdom  "
      ]
     },
     "execution_count": 3,
     "metadata": {},
     "output_type": "execute_result"
    }
   ],
   "source": [
    "df.head()"
   ]
  },
  {
   "cell_type": "markdown",
   "metadata": {},
   "source": [
    "**Variables**\n",
    "\n",
    "InvoiceNo: Invoice number. It is a unique value. If this code starts with C, it means return\n",
    "\n",
    "StockCode: Product code. It is unique for each product.\n",
    "\n",
    "Description: Product name\n",
    "\n",
    "Quantity: Number of products. It expresses how many of the products on the invoices have been sold. Those starting with C take a negative value.\n",
    "\n",
    "InvoiceDate: Invoice date and time\n",
    "\n",
    "UnitPrice: Product price\n",
    "\n",
    "Customer ID: Customer number. It is a unique number for each customer\n",
    "\n",
    "Country: The name of the country. Indicates the country where the customer lives."
   ]
  },
  {
   "cell_type": "code",
   "execution_count": 4,
   "metadata": {
    "execution": {
     "iopub.execute_input": "2021-09-19T18:25:46.254196Z",
     "iopub.status.busy": "2021-09-19T18:25:46.253899Z",
     "iopub.status.idle": "2021-09-19T18:25:46.406514Z",
     "shell.execute_reply": "2021-09-19T18:25:46.405719Z",
     "shell.execute_reply.started": "2021-09-19T18:25:46.254167Z"
    }
   },
   "outputs": [
    {
     "data": {
      "text/html": [
       "<div>\n",
       "<style scoped>\n",
       "    .dataframe tbody tr th:only-of-type {\n",
       "        vertical-align: middle;\n",
       "    }\n",
       "\n",
       "    .dataframe tbody tr th {\n",
       "        vertical-align: top;\n",
       "    }\n",
       "\n",
       "    .dataframe thead th {\n",
       "        text-align: right;\n",
       "    }\n",
       "</style>\n",
       "<table border=\"1\" class=\"dataframe\">\n",
       "  <thead>\n",
       "    <tr style=\"text-align: right;\">\n",
       "      <th></th>\n",
       "      <th>count</th>\n",
       "      <th>mean</th>\n",
       "      <th>std</th>\n",
       "      <th>min</th>\n",
       "      <th>25%</th>\n",
       "      <th>50%</th>\n",
       "      <th>75%</th>\n",
       "      <th>max</th>\n",
       "    </tr>\n",
       "  </thead>\n",
       "  <tbody>\n",
       "    <tr>\n",
       "      <th>Quantity</th>\n",
       "      <td>1067371.0</td>\n",
       "      <td>9.938898</td>\n",
       "      <td>172.705794</td>\n",
       "      <td>-80995.00</td>\n",
       "      <td>1.00</td>\n",
       "      <td>3.0</td>\n",
       "      <td>10.00</td>\n",
       "      <td>80995.0</td>\n",
       "    </tr>\n",
       "    <tr>\n",
       "      <th>Price</th>\n",
       "      <td>1067371.0</td>\n",
       "      <td>4.649388</td>\n",
       "      <td>123.553059</td>\n",
       "      <td>-53594.36</td>\n",
       "      <td>1.25</td>\n",
       "      <td>2.1</td>\n",
       "      <td>4.15</td>\n",
       "      <td>38970.0</td>\n",
       "    </tr>\n",
       "    <tr>\n",
       "      <th>Customer ID</th>\n",
       "      <td>824364.0</td>\n",
       "      <td>15324.638504</td>\n",
       "      <td>1697.464450</td>\n",
       "      <td>12346.00</td>\n",
       "      <td>13975.00</td>\n",
       "      <td>15255.0</td>\n",
       "      <td>16797.00</td>\n",
       "      <td>18287.0</td>\n",
       "    </tr>\n",
       "  </tbody>\n",
       "</table>\n",
       "</div>"
      ],
      "text/plain": [
       "                 count          mean          std       min       25%  \\\n",
       "Quantity     1067371.0      9.938898   172.705794 -80995.00      1.00   \n",
       "Price        1067371.0      4.649388   123.553059 -53594.36      1.25   \n",
       "Customer ID   824364.0  15324.638504  1697.464450  12346.00  13975.00   \n",
       "\n",
       "                 50%       75%      max  \n",
       "Quantity         3.0     10.00  80995.0  \n",
       "Price            2.1      4.15  38970.0  \n",
       "Customer ID  15255.0  16797.00  18287.0  "
      ]
     },
     "execution_count": 4,
     "metadata": {},
     "output_type": "execute_result"
    }
   ],
   "source": [
    "df.describe().T"
   ]
  },
  {
   "cell_type": "code",
   "execution_count": 5,
   "metadata": {
    "execution": {
     "iopub.execute_input": "2021-09-19T18:25:48.400745Z",
     "iopub.status.busy": "2021-09-19T18:25:48.400432Z",
     "iopub.status.idle": "2021-09-19T18:25:48.994277Z",
     "shell.execute_reply": "2021-09-19T18:25:48.99361Z",
     "shell.execute_reply.started": "2021-09-19T18:25:48.400717Z"
    }
   },
   "outputs": [
    {
     "data": {
      "text/plain": [
       "Invoice             0\n",
       "StockCode           0\n",
       "Description      4382\n",
       "Quantity            0\n",
       "InvoiceDate         0\n",
       "Price               0\n",
       "Customer ID    243007\n",
       "Country             0\n",
       "dtype: int64"
      ]
     },
     "execution_count": 5,
     "metadata": {},
     "output_type": "execute_result"
    }
   ],
   "source": [
    "df.isnull().sum()"
   ]
  },
  {
   "cell_type": "code",
   "execution_count": 6,
   "metadata": {
    "execution": {
     "iopub.execute_input": "2021-09-19T18:25:51.279057Z",
     "iopub.status.busy": "2021-09-19T18:25:51.278355Z",
     "iopub.status.idle": "2021-09-19T18:25:51.944518Z",
     "shell.execute_reply": "2021-09-19T18:25:51.943656Z",
     "shell.execute_reply.started": "2021-09-19T18:25:51.279018Z"
    }
   },
   "outputs": [],
   "source": [
    "df.dropna(inplace=True)"
   ]
  },
  {
   "cell_type": "code",
   "execution_count": 7,
   "metadata": {
    "execution": {
     "iopub.execute_input": "2021-09-19T18:25:53.904355Z",
     "iopub.status.busy": "2021-09-19T18:25:53.903698Z",
     "iopub.status.idle": "2021-09-19T18:25:54.014756Z",
     "shell.execute_reply": "2021-09-19T18:25:54.014106Z",
     "shell.execute_reply.started": "2021-09-19T18:25:53.904316Z"
    }
   },
   "outputs": [
    {
     "data": {
      "text/plain": [
       "5299"
      ]
     },
     "execution_count": 7,
     "metadata": {},
     "output_type": "execute_result"
    }
   ],
   "source": [
    "df[\"Description\"].nunique()"
   ]
  },
  {
   "cell_type": "code",
   "execution_count": 8,
   "metadata": {
    "execution": {
     "iopub.execute_input": "2021-09-19T18:25:59.245097Z",
     "iopub.status.busy": "2021-09-19T18:25:59.244048Z",
     "iopub.status.idle": "2021-09-19T18:25:59.392883Z",
     "shell.execute_reply": "2021-09-19T18:25:59.391833Z",
     "shell.execute_reply.started": "2021-09-19T18:25:59.24505Z"
    }
   },
   "outputs": [
    {
     "data": {
      "text/plain": [
       "WHITE HANGING HEART T-LIGHT HOLDER    5315\n",
       "REGENCY CAKESTAND 3 TIER              3777\n",
       "ASSORTED COLOUR BIRD ORNAMENT         2794\n",
       "JUMBO BAG RED RETROSPOT               2776\n",
       "LUNCH BAG  BLACK SKULL.               2161\n",
       "Name: Description, dtype: int64"
      ]
     },
     "execution_count": 8,
     "metadata": {},
     "output_type": "execute_result"
    }
   ],
   "source": [
    "df[\"Description\"].value_counts().head()"
   ]
  },
  {
   "cell_type": "code",
   "execution_count": 9,
   "metadata": {
    "execution": {
     "iopub.execute_input": "2021-09-19T18:26:01.852846Z",
     "iopub.status.busy": "2021-09-19T18:26:01.852555Z",
     "iopub.status.idle": "2021-09-19T18:26:02.008091Z",
     "shell.execute_reply": "2021-09-19T18:26:02.007157Z",
     "shell.execute_reply.started": "2021-09-19T18:26:01.852818Z"
    }
   },
   "outputs": [
    {
     "data": {
      "text/html": [
       "<div>\n",
       "<style scoped>\n",
       "    .dataframe tbody tr th:only-of-type {\n",
       "        vertical-align: middle;\n",
       "    }\n",
       "\n",
       "    .dataframe tbody tr th {\n",
       "        vertical-align: top;\n",
       "    }\n",
       "\n",
       "    .dataframe thead th {\n",
       "        text-align: right;\n",
       "    }\n",
       "</style>\n",
       "<table border=\"1\" class=\"dataframe\">\n",
       "  <thead>\n",
       "    <tr style=\"text-align: right;\">\n",
       "      <th></th>\n",
       "      <th>Quantity</th>\n",
       "    </tr>\n",
       "    <tr>\n",
       "      <th>Description</th>\n",
       "      <th></th>\n",
       "    </tr>\n",
       "  </thead>\n",
       "  <tbody>\n",
       "    <tr>\n",
       "      <th>WORLD WAR 2 GLIDERS ASSTD DESIGNS</th>\n",
       "      <td>107489</td>\n",
       "    </tr>\n",
       "    <tr>\n",
       "      <th>WHITE HANGING HEART T-LIGHT HOLDER</th>\n",
       "      <td>90008</td>\n",
       "    </tr>\n",
       "    <tr>\n",
       "      <th>ASSORTED COLOUR BIRD ORNAMENT</th>\n",
       "      <td>79434</td>\n",
       "    </tr>\n",
       "    <tr>\n",
       "      <th>JUMBO BAG RED RETROSPOT</th>\n",
       "      <td>74564</td>\n",
       "    </tr>\n",
       "    <tr>\n",
       "      <th>BROCADE RING PURSE</th>\n",
       "      <td>70390</td>\n",
       "    </tr>\n",
       "    <tr>\n",
       "      <th>PACK OF 60 PINK PAISLEY CAKE CASES</th>\n",
       "      <td>55051</td>\n",
       "    </tr>\n",
       "    <tr>\n",
       "      <th>60 TEATIME FAIRY CAKE CASES</th>\n",
       "      <td>53169</td>\n",
       "    </tr>\n",
       "    <tr>\n",
       "      <th>PACK OF 72 RETROSPOT CAKE CASES</th>\n",
       "      <td>45742</td>\n",
       "    </tr>\n",
       "    <tr>\n",
       "      <th>PACK OF 72 RETRO SPOT CAKE CASES</th>\n",
       "      <td>44507</td>\n",
       "    </tr>\n",
       "    <tr>\n",
       "      <th>SMALL POPCORN HOLDER</th>\n",
       "      <td>43602</td>\n",
       "    </tr>\n",
       "  </tbody>\n",
       "</table>\n",
       "</div>"
      ],
      "text/plain": [
       "                                    Quantity\n",
       "Description                                 \n",
       "WORLD WAR 2 GLIDERS ASSTD DESIGNS     107489\n",
       "WHITE HANGING HEART T-LIGHT HOLDER     90008\n",
       "ASSORTED COLOUR BIRD ORNAMENT          79434\n",
       "JUMBO BAG RED RETROSPOT                74564\n",
       "BROCADE RING PURSE                     70390\n",
       "PACK OF 60 PINK PAISLEY CAKE CASES     55051\n",
       "60 TEATIME FAIRY CAKE CASES            53169\n",
       "PACK OF 72 RETROSPOT CAKE CASES        45742\n",
       "PACK OF 72 RETRO SPOT CAKE CASES       44507\n",
       "SMALL POPCORN HOLDER                   43602"
      ]
     },
     "execution_count": 9,
     "metadata": {},
     "output_type": "execute_result"
    }
   ],
   "source": [
    "df.groupby(\"Description\").agg({\"Quantity\": \"sum\"}).sort_values(by=\"Quantity\", ascending=False).head(10)"
   ]
  },
  {
   "cell_type": "markdown",
   "metadata": {},
   "source": [
    "We are only interested in values greater than zero in the Quantity and Price fields. We also do not consider canceled transactions."
   ]
  },
  {
   "cell_type": "code",
   "execution_count": 10,
   "metadata": {
    "execution": {
     "iopub.execute_input": "2021-09-19T18:26:04.639399Z",
     "iopub.status.busy": "2021-09-19T18:26:04.638606Z",
     "iopub.status.idle": "2021-09-19T18:26:05.493949Z",
     "shell.execute_reply": "2021-09-19T18:26:05.492973Z",
     "shell.execute_reply.started": "2021-09-19T18:26:04.639357Z"
    }
   },
   "outputs": [],
   "source": [
    "df = df[~df[\"Invoice\"].str.contains(\"C\", na=False)]\n",
    "df = df[(df['Quantity'] > 0)]\n",
    "df = df[(df['Price'] > 0)]\n",
    "df = df[df['Country'] == 'United Kingdom']"
   ]
  },
  {
   "cell_type": "markdown",
   "metadata": {},
   "source": [
    "We can make outlier values in variables such as Quantity and Price more appropriate with these functions."
   ]
  },
  {
   "cell_type": "code",
   "execution_count": 11,
   "metadata": {
    "execution": {
     "iopub.execute_input": "2021-09-19T18:26:11.754617Z",
     "iopub.status.busy": "2021-09-19T18:26:11.753875Z",
     "iopub.status.idle": "2021-09-19T18:26:11.761732Z",
     "shell.execute_reply": "2021-09-19T18:26:11.760509Z",
     "shell.execute_reply.started": "2021-09-19T18:26:11.754576Z"
    }
   },
   "outputs": [],
   "source": [
    "def outlier_thresholds(dataframe, variable):\n",
    "    quartile1 = dataframe[variable].quantile(0.01)\n",
    "    quartile3 = dataframe[variable].quantile(0.99)\n",
    "    interquantile_range = quartile3 - quartile1\n",
    "    up_limit = quartile3 + 1.5 * interquantile_range\n",
    "    low_limit = quartile1 - 1.5 * interquantile_range\n",
    "    return low_limit, up_limit\n",
    "def replace_with_thresholds(dataframe, variable):\n",
    "    low_limit, up_limit = outlier_thresholds(dataframe, variable)\n",
    "    dataframe.loc[(dataframe[variable] < low_limit), variable] = low_limit\n",
    "    dataframe.loc[(dataframe[variable] > up_limit), variable] = up_limit\n"
   ]
  },
  {
   "cell_type": "code",
   "execution_count": 12,
   "metadata": {
    "execution": {
     "iopub.execute_input": "2021-09-19T18:26:14.625579Z",
     "iopub.status.busy": "2021-09-19T18:26:14.625275Z",
     "iopub.status.idle": "2021-09-19T18:26:14.68066Z",
     "shell.execute_reply": "2021-09-19T18:26:14.679634Z",
     "shell.execute_reply.started": "2021-09-19T18:26:14.62555Z"
    }
   },
   "outputs": [],
   "source": [
    "replace_with_thresholds(df, \"Quantity\")\n",
    "replace_with_thresholds(df, \"Price\")"
   ]
  },
  {
   "cell_type": "code",
   "execution_count": 13,
   "metadata": {
    "execution": {
     "iopub.execute_input": "2021-09-19T18:26:16.655773Z",
     "iopub.status.busy": "2021-09-19T18:26:16.655471Z",
     "iopub.status.idle": "2021-09-19T18:26:16.663858Z",
     "shell.execute_reply": "2021-09-19T18:26:16.662817Z",
     "shell.execute_reply.started": "2021-09-19T18:26:16.655745Z"
    }
   },
   "outputs": [],
   "source": [
    "df[\"TotalPrice\"] = df[\"Quantity\"] * df[\"Price\"]"
   ]
  },
  {
   "cell_type": "code",
   "execution_count": 14,
   "metadata": {
    "execution": {
     "iopub.execute_input": "2021-09-19T18:35:03.423749Z",
     "iopub.status.busy": "2021-09-19T18:35:03.423432Z",
     "iopub.status.idle": "2021-09-19T18:35:03.677834Z",
     "shell.execute_reply": "2021-09-19T18:35:03.676731Z",
     "shell.execute_reply.started": "2021-09-19T18:35:03.423721Z"
    }
   },
   "outputs": [
    {
     "data": {
      "text/html": [
       "<div>\n",
       "<style scoped>\n",
       "    .dataframe tbody tr th:only-of-type {\n",
       "        vertical-align: middle;\n",
       "    }\n",
       "\n",
       "    .dataframe tbody tr th {\n",
       "        vertical-align: top;\n",
       "    }\n",
       "\n",
       "    .dataframe thead th {\n",
       "        text-align: right;\n",
       "    }\n",
       "</style>\n",
       "<table border=\"1\" class=\"dataframe\">\n",
       "  <thead>\n",
       "    <tr style=\"text-align: right;\">\n",
       "      <th></th>\n",
       "      <th>Invoice</th>\n",
       "      <th>StockCode</th>\n",
       "      <th>Description</th>\n",
       "      <th>Quantity</th>\n",
       "      <th>InvoiceDate</th>\n",
       "      <th>Price</th>\n",
       "      <th>Customer ID</th>\n",
       "      <th>Country</th>\n",
       "      <th>TotalPrice</th>\n",
       "    </tr>\n",
       "  </thead>\n",
       "  <tbody>\n",
       "    <tr>\n",
       "      <th>390762</th>\n",
       "      <td>526934</td>\n",
       "      <td>22790</td>\n",
       "      <td>MIRROR, ARCHED GEORGIAN</td>\n",
       "      <td>200.0</td>\n",
       "      <td>2010-10-14 09:46:00</td>\n",
       "      <td>19.420</td>\n",
       "      <td>18102.0</td>\n",
       "      <td>United Kingdom</td>\n",
       "      <td>3884.000</td>\n",
       "    </tr>\n",
       "    <tr>\n",
       "      <th>548724</th>\n",
       "      <td>538191</td>\n",
       "      <td>22423</td>\n",
       "      <td>REGENCY CAKESTAND 3 TIER</td>\n",
       "      <td>268.5</td>\n",
       "      <td>2010-12-10 10:49:00</td>\n",
       "      <td>10.950</td>\n",
       "      <td>15061.0</td>\n",
       "      <td>United Kingdom</td>\n",
       "      <td>2940.075</td>\n",
       "    </tr>\n",
       "    <tr>\n",
       "      <th>936693</th>\n",
       "      <td>572209</td>\n",
       "      <td>23558</td>\n",
       "      <td>LANDMARK FRAME LONDON BRIDGE</td>\n",
       "      <td>268.5</td>\n",
       "      <td>2011-10-21 12:08:00</td>\n",
       "      <td>10.950</td>\n",
       "      <td>18102.0</td>\n",
       "      <td>United Kingdom</td>\n",
       "      <td>2940.075</td>\n",
       "    </tr>\n",
       "    <tr>\n",
       "      <th>936691</th>\n",
       "      <td>572209</td>\n",
       "      <td>23554</td>\n",
       "      <td>LANDMARK FRAME OXFORD STREET</td>\n",
       "      <td>268.5</td>\n",
       "      <td>2011-10-21 12:08:00</td>\n",
       "      <td>10.950</td>\n",
       "      <td>18102.0</td>\n",
       "      <td>United Kingdom</td>\n",
       "      <td>2940.075</td>\n",
       "    </tr>\n",
       "    <tr>\n",
       "      <th>420628</th>\n",
       "      <td>529613</td>\n",
       "      <td>22423</td>\n",
       "      <td>REGENCY CAKESTAND 3 TIER</td>\n",
       "      <td>268.5</td>\n",
       "      <td>2010-10-29 10:46:00</td>\n",
       "      <td>10.950</td>\n",
       "      <td>17949.0</td>\n",
       "      <td>United Kingdom</td>\n",
       "      <td>2940.075</td>\n",
       "    </tr>\n",
       "    <tr>\n",
       "      <th>...</th>\n",
       "      <td>...</td>\n",
       "      <td>...</td>\n",
       "      <td>...</td>\n",
       "      <td>...</td>\n",
       "      <td>...</td>\n",
       "      <td>...</td>\n",
       "      <td>...</td>\n",
       "      <td>...</td>\n",
       "      <td>...</td>\n",
       "    </tr>\n",
       "    <tr>\n",
       "      <th>123947</th>\n",
       "      <td>501176</td>\n",
       "      <td>PADS</td>\n",
       "      <td>PADS TO MATCH ALL CUSHIONS</td>\n",
       "      <td>1.0</td>\n",
       "      <td>2010-03-15 11:00:00</td>\n",
       "      <td>0.001</td>\n",
       "      <td>14857.0</td>\n",
       "      <td>United Kingdom</td>\n",
       "      <td>0.001</td>\n",
       "    </tr>\n",
       "    <tr>\n",
       "      <th>104480</th>\n",
       "      <td>499399</td>\n",
       "      <td>PADS</td>\n",
       "      <td>PADS TO MATCH ALL CUSHIONS</td>\n",
       "      <td>1.0</td>\n",
       "      <td>2010-02-26 13:26:00</td>\n",
       "      <td>0.001</td>\n",
       "      <td>14459.0</td>\n",
       "      <td>United Kingdom</td>\n",
       "      <td>0.001</td>\n",
       "    </tr>\n",
       "    <tr>\n",
       "      <th>79794</th>\n",
       "      <td>496643</td>\n",
       "      <td>PADS</td>\n",
       "      <td>PADS TO MATCH ALL CUSHIONS</td>\n",
       "      <td>1.0</td>\n",
       "      <td>2010-02-03 11:58:00</td>\n",
       "      <td>0.001</td>\n",
       "      <td>13408.0</td>\n",
       "      <td>United Kingdom</td>\n",
       "      <td>0.001</td>\n",
       "    </tr>\n",
       "    <tr>\n",
       "      <th>101718</th>\n",
       "      <td>499056</td>\n",
       "      <td>PADS</td>\n",
       "      <td>PADS TO MATCH ALL CUSHIONS</td>\n",
       "      <td>1.0</td>\n",
       "      <td>2010-02-24 13:46:00</td>\n",
       "      <td>0.001</td>\n",
       "      <td>13765.0</td>\n",
       "      <td>United Kingdom</td>\n",
       "      <td>0.001</td>\n",
       "    </tr>\n",
       "    <tr>\n",
       "      <th>77702</th>\n",
       "      <td>496473</td>\n",
       "      <td>PADS</td>\n",
       "      <td>PADS TO MATCH ALL CUSHIONS</td>\n",
       "      <td>1.0</td>\n",
       "      <td>2010-02-01 15:38:00</td>\n",
       "      <td>0.001</td>\n",
       "      <td>17350.0</td>\n",
       "      <td>United Kingdom</td>\n",
       "      <td>0.001</td>\n",
       "    </tr>\n",
       "  </tbody>\n",
       "</table>\n",
       "<p>725250 rows × 9 columns</p>\n",
       "</div>"
      ],
      "text/plain": [
       "       Invoice StockCode                    Description  Quantity  \\\n",
       "390762  526934     22790        MIRROR, ARCHED GEORGIAN     200.0   \n",
       "548724  538191     22423       REGENCY CAKESTAND 3 TIER     268.5   \n",
       "936693  572209     23558  LANDMARK FRAME LONDON BRIDGE      268.5   \n",
       "936691  572209     23554   LANDMARK FRAME OXFORD STREET     268.5   \n",
       "420628  529613     22423       REGENCY CAKESTAND 3 TIER     268.5   \n",
       "...        ...       ...                            ...       ...   \n",
       "123947  501176      PADS     PADS TO MATCH ALL CUSHIONS       1.0   \n",
       "104480  499399      PADS     PADS TO MATCH ALL CUSHIONS       1.0   \n",
       "79794   496643      PADS     PADS TO MATCH ALL CUSHIONS       1.0   \n",
       "101718  499056      PADS     PADS TO MATCH ALL CUSHIONS       1.0   \n",
       "77702   496473      PADS     PADS TO MATCH ALL CUSHIONS       1.0   \n",
       "\n",
       "                InvoiceDate   Price  Customer ID         Country  TotalPrice  \n",
       "390762  2010-10-14 09:46:00  19.420      18102.0  United Kingdom    3884.000  \n",
       "548724  2010-12-10 10:49:00  10.950      15061.0  United Kingdom    2940.075  \n",
       "936693  2011-10-21 12:08:00  10.950      18102.0  United Kingdom    2940.075  \n",
       "936691  2011-10-21 12:08:00  10.950      18102.0  United Kingdom    2940.075  \n",
       "420628  2010-10-29 10:46:00  10.950      17949.0  United Kingdom    2940.075  \n",
       "...                     ...     ...          ...             ...         ...  \n",
       "123947  2010-03-15 11:00:00   0.001      14857.0  United Kingdom       0.001  \n",
       "104480  2010-02-26 13:26:00   0.001      14459.0  United Kingdom       0.001  \n",
       "79794   2010-02-03 11:58:00   0.001      13408.0  United Kingdom       0.001  \n",
       "101718  2010-02-24 13:46:00   0.001      13765.0  United Kingdom       0.001  \n",
       "77702   2010-02-01 15:38:00   0.001      17350.0  United Kingdom       0.001  \n",
       "\n",
       "[725250 rows x 9 columns]"
      ]
     },
     "execution_count": 14,
     "metadata": {},
     "output_type": "execute_result"
    }
   ],
   "source": [
    "df.sort_values(by = 'TotalPrice', ascending = False)"
   ]
  },
  {
   "cell_type": "markdown",
   "metadata": {},
   "source": [
    "# 2-Customer Lifetime Value Calculation"
   ]
  },
  {
   "cell_type": "markdown",
   "metadata": {},
   "source": [
    "As a result of the following transactions and calculations, we may now calculate the value of each customer in our company.\n",
    "\n",
    "When we evaluate our customers on an annual basis, for example, if we have the information on the annual average number of orders and how much they spend on these orders, we can calculate the Customer Life Time Value for each customer."
   ]
  },
  {
   "attachments": {
    "b6553486-c356-4cc3-ace1-7504383ecc42.png": {
     "image/png": "[encoded data removed]"
    }
   },
   "cell_type": "markdown",
   "metadata": {},
   "source": [
    "![image.png](attachment:b6553486-c356-4cc3-ace1-7504383ecc42.png)"
   ]
  },
  {
   "attachments": {
    "958a574b-9b8f-4b21-a188-d4c6b2dc40d6.png": {
     "image/png": "[encoded data removed]"
    }
   },
   "cell_type": "markdown",
   "metadata": {},
   "source": [
    "![image.png](attachment:958a574b-9b8f-4b21-a188-d4c6b2dc40d6.png)"
   ]
  },
  {
   "attachments": {
    "ffb0b225-9a3c-4cca-9cd1-65277c0a59f7.png": {
     "image/png": "[encoded data removed]"
    }
   },
   "cell_type": "markdown",
   "metadata": {},
   "source": [
    "![image.png](attachment:ffb0b225-9a3c-4cca-9cd1-65277c0a59f7.png)"
   ]
  },
  {
   "attachments": {
    "62904107-4469-4931-b3d6-841a857fc0c0.png": {
     "image/png": "[encoded data removed]"
    }
   },
   "cell_type": "markdown",
   "metadata": {},
   "source": [
    "![image.png](attachment:62904107-4469-4931-b3d6-841a857fc0c0.png)"
   ]
  },
  {
   "attachments": {
    "85d345b3-7392-4d4a-9792-1869c00acddc.png": {
     "image/png": "[encoded data removed]"
    }
   },
   "cell_type": "markdown",
   "metadata": {},
   "source": [
    "![image.png](attachment:85d345b3-7392-4d4a-9792-1869c00acddc.png)"
   ]
  },
  {
   "attachments": {
    "65626382-479d-49a0-a944-5e3a5e60dc7d.png": {
     "image/png": "[encoded data removed]"
    }
   },
   "cell_type": "markdown",
   "metadata": {},
   "source": [
    "![image.png](attachment:65626382-479d-49a0-a944-5e3a5e60dc7d.png)"
   ]
  },
  {
   "attachments": {
    "9f6bb250-0c7b-4e67-b60f-d2aba71c1ed8.png": {
     "image/png": "[encoded data removed]"
    }
   },
   "cell_type": "markdown",
   "metadata": {},
   "source": [
    "![image.png](attachment:9f6bb250-0c7b-4e67-b60f-d2aba71c1ed8.png)"
   ]
  },
  {
   "attachments": {
    "5e6032ae-31ed-4f12-977f-f5c2e257b813.png": {
     "image/png": "[encoded data removed]"
    }
   },
   "cell_type": "markdown",
   "metadata": {},
   "source": [
    "![image.png](attachment:5e6032ae-31ed-4f12-977f-f5c2e257b813.png)"
   ]
  },
  {
   "attachments": {
    "e55a1954-32f4-4da4-bade-81f16650054a.png": {
     "image/png": "[encoded data removed]"
    }
   },
   "cell_type": "markdown",
   "metadata": {},
   "source": [
    "![image.png](attachment:e55a1954-32f4-4da4-bade-81f16650054a.png)"
   ]
  },
  {
   "cell_type": "markdown",
   "metadata": {},
   "source": [
    "Average customer expenditures per visit (S) = £5.90 \n",
    "The purchase cycle (C) = 4.2 \n",
    "Average customer value / week (A) = £24.30 \n",
    "\n",
    "When you have estimated your variables you will have to take into account some constants. These are:\n",
    "\n",
    "**1. Average customer lifespan (T) – How long, based on your experience, do customers remain your customers?**\n",
    "\n",
    "Calculate Churn Rate %:\n",
    "\n",
    "CB – Customers at the beginning of a period\n",
    "\n",
    "CE – Customers at the end of a period\n",
    "\n",
    "If you had 100 customers at the start of the period, and 95 customers at the end of the period, your churn rate would be:\n",
    "\n",
    "Churn rate (%) = (100-95)/100 = 5/100\n",
    "\n",
    "= 5%\n",
    "\n",
    "T = 1 / 5% \n",
    "\n",
    "= 1 / 0.05 = 20\n",
    "\n",
    "**2. Discount rate (I) – No, this is not your customer’s discount. You are projecting a value, into the future, but you’ll have to adapt this value to present tense. Simply put – the value of a certain good in the future is lower than that of one you are holding in your hands today. This is the interest rate used in discounted cash flow analysis to determine the present value of future cash flows. Confused? Go with a standard 10% rate.**\n",
    "\n",
    "**3. Customer retention rate (R) – How many of your customers come back to your store and purchase from you, compared to the previous, equal amount of time?**\n",
    "\n",
    "CE = customers at the end of a period of time\n",
    "CN = customers acquired during a period of time\n",
    "CB = customers at the beginning of a period of time\n",
    "Say you had:\n",
    "\n",
    "CE = 95\n",
    "\n",
    "CN = 20\n",
    "\n",
    "CB = 100\n",
    "\n",
    "R = ((95-20) / 100) × 100 \n",
    "\n",
    "= (75 / 100) × 100 \n",
    "\n",
    "= 0.75 × 100\n",
    "\n",
    "= 75%\n",
    "\n",
    "**4. Profit Margin (P)**\n",
    "\n",
    "Total revenue: £500\n",
    "\n",
    "Cost of sales: £393.45\n",
    "\n",
    "P = ((500-393.45) / 500) x 100 = 21.3%\n",
    "\n",
    "**5. Average Gross Margin per Customer Lifespan (M) – the gross profit per customer expected in the given average lifespan.**\n",
    "\n",
    "M = 21.3%( 52(24.30) x 20)\n",
    "\n",
    "=£5,382.94\n",
    "\n",
    "\n",
    "\n",
    "\n",
    "Simple Customer Lifetime Value Formula: \n",
    "\n",
    "= 52(24.30) x 20\n",
    "\n",
    "= £25,272\n",
    "\n",
    "\n",
    "**NOTE: the number 52 comes from the number of weeks in a year.**\n",
    "\n",
    "[1]"
   ]
  },
  {
   "cell_type": "markdown",
   "metadata": {},
   "source": [
    "# However!!! \n",
    "\n",
    "* **This calculation will represent a single time period. It will also only represent the time the analysis was made.**\n",
    "\n",
    "* **In these formulas, Total Price is the dominant factor and will suppress the frequency. This leads to the fact that the number of transactions will not matter once the customer has earned the same price to the company.**\n",
    "\n",
    "* **Churn rate comes from all customer base. It will not be personal. Likewise, Profit is not specific to the customer, coming from the entire customer base.**\n",
    "\n",
    "For all these reasons, we need a more comprehensive model. For this, we will use BG-NBD and Gamma-Gamma models."
   ]
  },
  {
   "cell_type": "markdown",
   "metadata": {},
   "source": [
    "# Let's prepare the dataset for CLTV Prediction"
   ]
  },
  {
   "cell_type": "code",
   "execution_count": 16,
   "metadata": {
    "execution": {
     "iopub.execute_input": "2021-09-19T18:26:22.02937Z",
     "iopub.status.busy": "2021-09-19T18:26:22.028523Z",
     "iopub.status.idle": "2021-09-19T18:26:22.13925Z",
     "shell.execute_reply": "2021-09-19T18:26:22.137973Z",
     "shell.execute_reply.started": "2021-09-19T18:26:22.029328Z"
    }
   },
   "outputs": [
    {
     "name": "stdout",
     "output_type": "stream",
     "text": [
      "2011-12-11 12:49:00\n"
     ]
    }
   ],
   "source": [
    "today_date = pd.to_datetime(df['InvoiceDate'].max()) + pd.DateOffset(days=2)\n",
    "print(today_date)"
   ]
  },
  {
   "cell_type": "code",
   "execution_count": 17,
   "metadata": {
    "execution": {
     "iopub.execute_input": "2021-09-19T18:37:19.885844Z",
     "iopub.status.busy": "2021-09-19T18:37:19.885509Z",
     "iopub.status.idle": "2021-09-19T18:37:29.458674Z",
     "shell.execute_reply": "2021-09-19T18:37:29.457759Z",
     "shell.execute_reply.started": "2021-09-19T18:37:19.885804Z"
    }
   },
   "outputs": [
    {
     "data": {
      "text/html": [
       "<div>\n",
       "<style scoped>\n",
       "    .dataframe tbody tr th:only-of-type {\n",
       "        vertical-align: middle;\n",
       "    }\n",
       "\n",
       "    .dataframe tbody tr th {\n",
       "        vertical-align: top;\n",
       "    }\n",
       "\n",
       "    .dataframe thead tr th {\n",
       "        text-align: left;\n",
       "    }\n",
       "\n",
       "    .dataframe thead tr:last-of-type th {\n",
       "        text-align: right;\n",
       "    }\n",
       "</style>\n",
       "<table border=\"1\" class=\"dataframe\">\n",
       "  <thead>\n",
       "    <tr>\n",
       "      <th></th>\n",
       "      <th colspan=\"2\" halign=\"left\">InvoiceDate</th>\n",
       "      <th>Invoice</th>\n",
       "      <th>TotalPrice</th>\n",
       "    </tr>\n",
       "    <tr>\n",
       "      <th></th>\n",
       "      <th>&lt;lambda_0&gt;</th>\n",
       "      <th>&lt;lambda_1&gt;</th>\n",
       "      <th>&lt;lambda&gt;</th>\n",
       "      <th>&lt;lambda&gt;</th>\n",
       "    </tr>\n",
       "    <tr>\n",
       "      <th>Customer ID</th>\n",
       "      <th></th>\n",
       "      <th></th>\n",
       "      <th></th>\n",
       "      <th></th>\n",
       "    </tr>\n",
       "  </thead>\n",
       "  <tbody>\n",
       "    <tr>\n",
       "      <th>12346.0</th>\n",
       "      <td>327</td>\n",
       "      <td>727</td>\n",
       "      <td>12</td>\n",
       "      <td>652.10</td>\n",
       "    </tr>\n",
       "    <tr>\n",
       "      <th>12608.0</th>\n",
       "      <td>406</td>\n",
       "      <td>406</td>\n",
       "      <td>1</td>\n",
       "      <td>415.79</td>\n",
       "    </tr>\n",
       "    <tr>\n",
       "      <th>12745.0</th>\n",
       "      <td>488</td>\n",
       "      <td>575</td>\n",
       "      <td>2</td>\n",
       "      <td>723.85</td>\n",
       "    </tr>\n",
       "    <tr>\n",
       "      <th>12746.0</th>\n",
       "      <td>542</td>\n",
       "      <td>542</td>\n",
       "      <td>1</td>\n",
       "      <td>254.55</td>\n",
       "    </tr>\n",
       "    <tr>\n",
       "      <th>12747.0</th>\n",
       "      <td>3</td>\n",
       "      <td>733</td>\n",
       "      <td>26</td>\n",
       "      <td>9276.54</td>\n",
       "    </tr>\n",
       "  </tbody>\n",
       "</table>\n",
       "</div>"
      ],
      "text/plain": [
       "            InvoiceDate             Invoice TotalPrice\n",
       "             <lambda_0> <lambda_1> <lambda>   <lambda>\n",
       "Customer ID                                           \n",
       "12346.0             327        727       12     652.10\n",
       "12608.0             406        406        1     415.79\n",
       "12745.0             488        575        2     723.85\n",
       "12746.0             542        542        1     254.55\n",
       "12747.0               3        733       26    9276.54"
      ]
     },
     "execution_count": 17,
     "metadata": {},
     "output_type": "execute_result"
    }
   ],
   "source": [
    "cltv_df = df.groupby('Customer ID').agg(\n",
    "        {'InvoiceDate': [lambda InvoiceDate: (today_date - pd.to_datetime(InvoiceDate).max()).days,\n",
    "                         lambda InvoiceDate: (today_date - pd.to_datetime(InvoiceDate).min()).days],\n",
    "         'Invoice': lambda Invoice: Invoice.nunique(),\n",
    "         'TotalPrice': lambda TotalPrice: TotalPrice.sum()})\n",
    "cltv_df.head()"
   ]
  },
  {
   "cell_type": "markdown",
   "metadata": {},
   "source": [
    "* Regency = Time between current date and max (last) invoice date\n",
    "* T (time) = Time between current date and min (first) invoice date\n",
    "* Frequency = Number of invoices (orders)\n",
    "* Monetary = Total sales"
   ]
  },
  {
   "cell_type": "code",
   "execution_count": 18,
   "metadata": {
    "execution": {
     "iopub.execute_input": "2021-09-19T18:37:31.780545Z",
     "iopub.status.busy": "2021-09-19T18:37:31.780224Z",
     "iopub.status.idle": "2021-09-19T18:37:31.793208Z",
     "shell.execute_reply": "2021-09-19T18:37:31.792481Z",
     "shell.execute_reply.started": "2021-09-19T18:37:31.780502Z"
    }
   },
   "outputs": [
    {
     "data": {
      "text/html": [
       "<div>\n",
       "<style scoped>\n",
       "    .dataframe tbody tr th:only-of-type {\n",
       "        vertical-align: middle;\n",
       "    }\n",
       "\n",
       "    .dataframe tbody tr th {\n",
       "        vertical-align: top;\n",
       "    }\n",
       "\n",
       "    .dataframe thead th {\n",
       "        text-align: right;\n",
       "    }\n",
       "</style>\n",
       "<table border=\"1\" class=\"dataframe\">\n",
       "  <thead>\n",
       "    <tr style=\"text-align: right;\">\n",
       "      <th></th>\n",
       "      <th>recency</th>\n",
       "      <th>T</th>\n",
       "      <th>frequency</th>\n",
       "      <th>monetary</th>\n",
       "    </tr>\n",
       "    <tr>\n",
       "      <th>Customer ID</th>\n",
       "      <th></th>\n",
       "      <th></th>\n",
       "      <th></th>\n",
       "      <th></th>\n",
       "    </tr>\n",
       "  </thead>\n",
       "  <tbody>\n",
       "    <tr>\n",
       "      <th>12346.0</th>\n",
       "      <td>327</td>\n",
       "      <td>727</td>\n",
       "      <td>12</td>\n",
       "      <td>652.10</td>\n",
       "    </tr>\n",
       "    <tr>\n",
       "      <th>12608.0</th>\n",
       "      <td>406</td>\n",
       "      <td>406</td>\n",
       "      <td>1</td>\n",
       "      <td>415.79</td>\n",
       "    </tr>\n",
       "    <tr>\n",
       "      <th>12745.0</th>\n",
       "      <td>488</td>\n",
       "      <td>575</td>\n",
       "      <td>2</td>\n",
       "      <td>723.85</td>\n",
       "    </tr>\n",
       "    <tr>\n",
       "      <th>12746.0</th>\n",
       "      <td>542</td>\n",
       "      <td>542</td>\n",
       "      <td>1</td>\n",
       "      <td>254.55</td>\n",
       "    </tr>\n",
       "    <tr>\n",
       "      <th>12747.0</th>\n",
       "      <td>3</td>\n",
       "      <td>733</td>\n",
       "      <td>26</td>\n",
       "      <td>9276.54</td>\n",
       "    </tr>\n",
       "  </tbody>\n",
       "</table>\n",
       "</div>"
      ],
      "text/plain": [
       "             recency    T  frequency  monetary\n",
       "Customer ID                                   \n",
       "12346.0          327  727         12    652.10\n",
       "12608.0          406  406          1    415.79\n",
       "12745.0          488  575          2    723.85\n",
       "12746.0          542  542          1    254.55\n",
       "12747.0            3  733         26   9276.54"
      ]
     },
     "execution_count": 18,
     "metadata": {},
     "output_type": "execute_result"
    }
   ],
   "source": [
    "cltv_df.columns = cltv_df.columns.droplevel(0)\n",
    "cltv_df.columns = ['recency', 'T', 'frequency', 'monetary']\n",
    "cltv_df.head()"
   ]
  },
  {
   "cell_type": "code",
   "execution_count": 19,
   "metadata": {
    "execution": {
     "iopub.execute_input": "2021-09-19T18:37:35.237493Z",
     "iopub.status.busy": "2021-09-19T18:37:35.237197Z",
     "iopub.status.idle": "2021-09-19T18:37:35.257321Z",
     "shell.execute_reply": "2021-09-19T18:37:35.256462Z",
     "shell.execute_reply.started": "2021-09-19T18:37:35.237464Z"
    }
   },
   "outputs": [
    {
     "data": {
      "text/html": [
       "<div>\n",
       "<style scoped>\n",
       "    .dataframe tbody tr th:only-of-type {\n",
       "        vertical-align: middle;\n",
       "    }\n",
       "\n",
       "    .dataframe tbody tr th {\n",
       "        vertical-align: top;\n",
       "    }\n",
       "\n",
       "    .dataframe thead th {\n",
       "        text-align: right;\n",
       "    }\n",
       "</style>\n",
       "<table border=\"1\" class=\"dataframe\">\n",
       "  <thead>\n",
       "    <tr style=\"text-align: right;\">\n",
       "      <th></th>\n",
       "      <th>recency</th>\n",
       "      <th>T</th>\n",
       "      <th>frequency</th>\n",
       "      <th>monetary</th>\n",
       "    </tr>\n",
       "    <tr>\n",
       "      <th>Customer ID</th>\n",
       "      <th></th>\n",
       "      <th></th>\n",
       "      <th></th>\n",
       "      <th></th>\n",
       "    </tr>\n",
       "  </thead>\n",
       "  <tbody>\n",
       "    <tr>\n",
       "      <th>18102.0</th>\n",
       "      <td>2</td>\n",
       "      <td>740</td>\n",
       "      <td>145</td>\n",
       "      <td>508457.945</td>\n",
       "    </tr>\n",
       "    <tr>\n",
       "      <th>13694.0</th>\n",
       "      <td>5</td>\n",
       "      <td>736</td>\n",
       "      <td>143</td>\n",
       "      <td>189087.875</td>\n",
       "    </tr>\n",
       "    <tr>\n",
       "      <th>17511.0</th>\n",
       "      <td>4</td>\n",
       "      <td>739</td>\n",
       "      <td>60</td>\n",
       "      <td>175135.805</td>\n",
       "    </tr>\n",
       "    <tr>\n",
       "      <th>17450.0</th>\n",
       "      <td>9</td>\n",
       "      <td>439</td>\n",
       "      <td>51</td>\n",
       "      <td>155404.680</td>\n",
       "    </tr>\n",
       "    <tr>\n",
       "      <th>16684.0</th>\n",
       "      <td>5</td>\n",
       "      <td>733</td>\n",
       "      <td>55</td>\n",
       "      <td>133892.210</td>\n",
       "    </tr>\n",
       "    <tr>\n",
       "      <th>...</th>\n",
       "      <td>...</td>\n",
       "      <td>...</td>\n",
       "      <td>...</td>\n",
       "      <td>...</td>\n",
       "    </tr>\n",
       "    <tr>\n",
       "      <th>15913.0</th>\n",
       "      <td>535</td>\n",
       "      <td>535</td>\n",
       "      <td>1</td>\n",
       "      <td>6.300</td>\n",
       "    </tr>\n",
       "    <tr>\n",
       "      <th>14792.0</th>\n",
       "      <td>65</td>\n",
       "      <td>65</td>\n",
       "      <td>1</td>\n",
       "      <td>6.200</td>\n",
       "    </tr>\n",
       "    <tr>\n",
       "      <th>13788.0</th>\n",
       "      <td>506</td>\n",
       "      <td>506</td>\n",
       "      <td>1</td>\n",
       "      <td>3.750</td>\n",
       "    </tr>\n",
       "    <tr>\n",
       "      <th>16738.0</th>\n",
       "      <td>299</td>\n",
       "      <td>299</td>\n",
       "      <td>1</td>\n",
       "      <td>3.750</td>\n",
       "    </tr>\n",
       "    <tr>\n",
       "      <th>14095.0</th>\n",
       "      <td>724</td>\n",
       "      <td>724</td>\n",
       "      <td>1</td>\n",
       "      <td>2.950</td>\n",
       "    </tr>\n",
       "  </tbody>\n",
       "</table>\n",
       "<p>5350 rows × 4 columns</p>\n",
       "</div>"
      ],
      "text/plain": [
       "             recency    T  frequency    monetary\n",
       "Customer ID                                     \n",
       "18102.0            2  740        145  508457.945\n",
       "13694.0            5  736        143  189087.875\n",
       "17511.0            4  739         60  175135.805\n",
       "17450.0            9  439         51  155404.680\n",
       "16684.0            5  733         55  133892.210\n",
       "...              ...  ...        ...         ...\n",
       "15913.0          535  535          1       6.300\n",
       "14792.0           65   65          1       6.200\n",
       "13788.0          506  506          1       3.750\n",
       "16738.0          299  299          1       3.750\n",
       "14095.0          724  724          1       2.950\n",
       "\n",
       "[5350 rows x 4 columns]"
      ]
     },
     "execution_count": 19,
     "metadata": {},
     "output_type": "execute_result"
    }
   ],
   "source": [
    "cltv_df.sort_values(by = 'monetary', ascending = False)"
   ]
  },
  {
   "cell_type": "markdown",
   "metadata": {},
   "source": [
    "We need to calculate the average profit:"
   ]
  },
  {
   "cell_type": "code",
   "execution_count": 20,
   "metadata": {
    "execution": {
     "iopub.execute_input": "2021-09-19T18:37:43.69397Z",
     "iopub.status.busy": "2021-09-19T18:37:43.69368Z",
     "iopub.status.idle": "2021-09-19T18:37:43.69985Z",
     "shell.execute_reply": "2021-09-19T18:37:43.698856Z",
     "shell.execute_reply.started": "2021-09-19T18:37:43.69394Z"
    }
   },
   "outputs": [],
   "source": [
    "cltv_df[\"monetary\"] = cltv_df[\"monetary\"] / cltv_df[\"frequency\"]"
   ]
  },
  {
   "cell_type": "markdown",
   "metadata": {},
   "source": [
    "To build our forecasting model, we need to select **customers who make us multiple purchases**."
   ]
  },
  {
   "cell_type": "code",
   "execution_count": 21,
   "metadata": {
    "execution": {
     "iopub.execute_input": "2021-09-19T18:37:46.94174Z",
     "iopub.status.busy": "2021-09-19T18:37:46.941436Z",
     "iopub.status.idle": "2021-09-19T18:37:46.947608Z",
     "shell.execute_reply": "2021-09-19T18:37:46.946861Z",
     "shell.execute_reply.started": "2021-09-19T18:37:46.941708Z"
    }
   },
   "outputs": [
    {
     "data": {
      "text/html": [
       "<div>\n",
       "<style scoped>\n",
       "    .dataframe tbody tr th:only-of-type {\n",
       "        vertical-align: middle;\n",
       "    }\n",
       "\n",
       "    .dataframe tbody tr th {\n",
       "        vertical-align: top;\n",
       "    }\n",
       "\n",
       "    .dataframe thead th {\n",
       "        text-align: right;\n",
       "    }\n",
       "</style>\n",
       "<table border=\"1\" class=\"dataframe\">\n",
       "  <thead>\n",
       "    <tr style=\"text-align: right;\">\n",
       "      <th></th>\n",
       "      <th>recency</th>\n",
       "      <th>T</th>\n",
       "      <th>frequency</th>\n",
       "      <th>monetary</th>\n",
       "    </tr>\n",
       "    <tr>\n",
       "      <th>Customer ID</th>\n",
       "      <th></th>\n",
       "      <th></th>\n",
       "      <th></th>\n",
       "      <th></th>\n",
       "    </tr>\n",
       "  </thead>\n",
       "  <tbody>\n",
       "    <tr>\n",
       "      <th>12346.0</th>\n",
       "      <td>327</td>\n",
       "      <td>727</td>\n",
       "      <td>12</td>\n",
       "      <td>54.341667</td>\n",
       "    </tr>\n",
       "    <tr>\n",
       "      <th>12745.0</th>\n",
       "      <td>488</td>\n",
       "      <td>575</td>\n",
       "      <td>2</td>\n",
       "      <td>361.925000</td>\n",
       "    </tr>\n",
       "    <tr>\n",
       "      <th>12747.0</th>\n",
       "      <td>3</td>\n",
       "      <td>733</td>\n",
       "      <td>26</td>\n",
       "      <td>356.790000</td>\n",
       "    </tr>\n",
       "    <tr>\n",
       "      <th>12748.0</th>\n",
       "      <td>2</td>\n",
       "      <td>736</td>\n",
       "      <td>336</td>\n",
       "      <td>156.497321</td>\n",
       "    </tr>\n",
       "    <tr>\n",
       "      <th>12749.0</th>\n",
       "      <td>5</td>\n",
       "      <td>522</td>\n",
       "      <td>9</td>\n",
       "      <td>764.311111</td>\n",
       "    </tr>\n",
       "  </tbody>\n",
       "</table>\n",
       "</div>"
      ],
      "text/plain": [
       "             recency    T  frequency    monetary\n",
       "Customer ID                                     \n",
       "12346.0          327  727         12   54.341667\n",
       "12745.0          488  575          2  361.925000\n",
       "12747.0            3  733         26  356.790000\n",
       "12748.0            2  736        336  156.497321\n",
       "12749.0            5  522          9  764.311111"
      ]
     },
     "execution_count": 21,
     "metadata": {},
     "output_type": "execute_result"
    }
   ],
   "source": [
    "cltv_df = cltv_df[(cltv_df['frequency'] > 1)]\n",
    "cltv_df.head()"
   ]
  },
  {
   "cell_type": "markdown",
   "metadata": {},
   "source": [
    "BG/NBD model asks us for *recency* and *T* **weekly**"
   ]
  },
  {
   "cell_type": "code",
   "execution_count": 22,
   "metadata": {
    "execution": {
     "iopub.execute_input": "2021-09-19T18:37:57.126906Z",
     "iopub.status.busy": "2021-09-19T18:37:57.126251Z",
     "iopub.status.idle": "2021-09-19T18:37:57.134124Z",
     "shell.execute_reply": "2021-09-19T18:37:57.133523Z",
     "shell.execute_reply.started": "2021-09-19T18:37:57.126854Z"
    }
   },
   "outputs": [],
   "source": [
    "cltv_df[\"recency\"] = cltv_df[\"recency\"] / 7\n",
    "cltv_df[\"T\"] = cltv_df[\"T\"] / 7"
   ]
  },
  {
   "cell_type": "code",
   "execution_count": 23,
   "metadata": {
    "execution": {
     "iopub.execute_input": "2021-09-19T18:38:23.475755Z",
     "iopub.status.busy": "2021-09-19T18:38:23.475442Z",
     "iopub.status.idle": "2021-09-19T18:38:23.493432Z",
     "shell.execute_reply": "2021-09-19T18:38:23.492787Z",
     "shell.execute_reply.started": "2021-09-19T18:38:23.475726Z"
    }
   },
   "outputs": [
    {
     "data": {
      "text/html": [
       "<div>\n",
       "<style scoped>\n",
       "    .dataframe tbody tr th:only-of-type {\n",
       "        vertical-align: middle;\n",
       "    }\n",
       "\n",
       "    .dataframe tbody tr th {\n",
       "        vertical-align: top;\n",
       "    }\n",
       "\n",
       "    .dataframe thead th {\n",
       "        text-align: right;\n",
       "    }\n",
       "</style>\n",
       "<table border=\"1\" class=\"dataframe\">\n",
       "  <thead>\n",
       "    <tr style=\"text-align: right;\">\n",
       "      <th></th>\n",
       "      <th>recency</th>\n",
       "      <th>T</th>\n",
       "      <th>frequency</th>\n",
       "      <th>monetary</th>\n",
       "    </tr>\n",
       "    <tr>\n",
       "      <th>Customer ID</th>\n",
       "      <th></th>\n",
       "      <th></th>\n",
       "      <th></th>\n",
       "      <th></th>\n",
       "    </tr>\n",
       "  </thead>\n",
       "  <tbody>\n",
       "    <tr>\n",
       "      <th>14091.0</th>\n",
       "      <td>93.571429</td>\n",
       "      <td>99.857143</td>\n",
       "      <td>2</td>\n",
       "      <td>4246.545000</td>\n",
       "    </tr>\n",
       "    <tr>\n",
       "      <th>14088.0</th>\n",
       "      <td>1.571429</td>\n",
       "      <td>60.285714</td>\n",
       "      <td>16</td>\n",
       "      <td>3977.794375</td>\n",
       "    </tr>\n",
       "    <tr>\n",
       "      <th>18102.0</th>\n",
       "      <td>0.285714</td>\n",
       "      <td>105.714286</td>\n",
       "      <td>145</td>\n",
       "      <td>3506.606517</td>\n",
       "    </tr>\n",
       "    <tr>\n",
       "      <th>14096.0</th>\n",
       "      <td>0.714286</td>\n",
       "      <td>14.714286</td>\n",
       "      <td>17</td>\n",
       "      <td>3158.964118</td>\n",
       "    </tr>\n",
       "    <tr>\n",
       "      <th>17450.0</th>\n",
       "      <td>1.285714</td>\n",
       "      <td>62.714286</td>\n",
       "      <td>51</td>\n",
       "      <td>3047.150588</td>\n",
       "    </tr>\n",
       "    <tr>\n",
       "      <th>...</th>\n",
       "      <td>...</td>\n",
       "      <td>...</td>\n",
       "      <td>...</td>\n",
       "      <td>...</td>\n",
       "    </tr>\n",
       "    <tr>\n",
       "      <th>17246.0</th>\n",
       "      <td>78.285714</td>\n",
       "      <td>105.571429</td>\n",
       "      <td>2</td>\n",
       "      <td>19.460000</td>\n",
       "    </tr>\n",
       "    <tr>\n",
       "      <th>17816.0</th>\n",
       "      <td>5.428571</td>\n",
       "      <td>103.571429</td>\n",
       "      <td>6</td>\n",
       "      <td>18.720000</td>\n",
       "    </tr>\n",
       "    <tr>\n",
       "      <th>14610.0</th>\n",
       "      <td>56.714286</td>\n",
       "      <td>73.571429</td>\n",
       "      <td>2</td>\n",
       "      <td>12.175000</td>\n",
       "    </tr>\n",
       "    <tr>\n",
       "      <th>18037.0</th>\n",
       "      <td>22.142857</td>\n",
       "      <td>105.571429</td>\n",
       "      <td>15</td>\n",
       "      <td>11.161333</td>\n",
       "    </tr>\n",
       "    <tr>\n",
       "      <th>16454.0</th>\n",
       "      <td>6.571429</td>\n",
       "      <td>87.428571</td>\n",
       "      <td>4</td>\n",
       "      <td>7.737500</td>\n",
       "    </tr>\n",
       "  </tbody>\n",
       "</table>\n",
       "<p>3876 rows × 4 columns</p>\n",
       "</div>"
      ],
      "text/plain": [
       "               recency           T  frequency     monetary\n",
       "Customer ID                                               \n",
       "14091.0      93.571429   99.857143          2  4246.545000\n",
       "14088.0       1.571429   60.285714         16  3977.794375\n",
       "18102.0       0.285714  105.714286        145  3506.606517\n",
       "14096.0       0.714286   14.714286         17  3158.964118\n",
       "17450.0       1.285714   62.714286         51  3047.150588\n",
       "...                ...         ...        ...          ...\n",
       "17246.0      78.285714  105.571429          2    19.460000\n",
       "17816.0       5.428571  103.571429          6    18.720000\n",
       "14610.0      56.714286   73.571429          2    12.175000\n",
       "18037.0      22.142857  105.571429         15    11.161333\n",
       "16454.0       6.571429   87.428571          4     7.737500\n",
       "\n",
       "[3876 rows x 4 columns]"
      ]
     },
     "execution_count": 23,
     "metadata": {},
     "output_type": "execute_result"
    }
   ],
   "source": [
    "cltv_df.sort_values(by = \"monetary\", ascending = False)"
   ]
  },
  {
   "cell_type": "markdown",
   "metadata": {},
   "source": [
    "**Columns We Have Created**\n",
    "\n",
    "\n",
    "**Recency** : It is equal to the duration between a customers first purchase and their last purchase.\n",
    "\n",
    "**T** (Age of the customer): It is equal to the duration between a customer's first purchase and the last day in the dataset. \n",
    "\n",
    "**Frequency**: The number of periods in which the customer has made a repeat purchase.\n",
    "\n",
    "**Monetary**: The profitability value of the customer's relationship with the company."
   ]
  },
  {
   "cell_type": "markdown",
   "metadata": {},
   "source": [
    "# 3-Customer Lifetime Value Prediction"
   ]
  },
  {
   "cell_type": "markdown",
   "metadata": {},
   "source": [
    "The most important issue in this section is the need to predict the potential values ​​of our new customers.\n",
    "\n",
    "Whether our customer has just come and purchased 1–2 products, we want to assign a value to this customer. So we need to make an estimation of whether this future customer is very valuable or unimportant to us.\n",
    "\n",
    "If we can predict this situation, we can follow a marketing strategy with the customer accordingly. In this case, making CLTV Prediction for the future is at a very important point in CRM studies. Another need here is this: Although we have the average revenue and purchasing frequency of the customer, the reason why we cannot make forward forecasts is,\n",
    "For the company, we do not have the behavioral distribution of all customers. In addition, we cannot make an estimation for individuals based on this probability distribution.\n",
    "With BG-NBD and Gamma-Gamma models, we will solve this problem and make forward-looking predictions."
   ]
  },
  {
   "cell_type": "markdown",
   "metadata": {},
   "source": [
    "# BG-NBD Model"
   ]
  },
  {
   "cell_type": "markdown",
   "metadata": {},
   "source": [
    "![](https://miro.medium.com/max/1838/0*ZUepkV0FnvKzRsIU)"
   ]
  },
  {
   "cell_type": "code",
   "execution_count": 24,
   "metadata": {
    "execution": {
     "iopub.execute_input": "2021-09-19T18:38:29.9086Z",
     "iopub.status.busy": "2021-09-19T18:38:29.908166Z",
     "iopub.status.idle": "2021-09-19T18:38:30.093346Z",
     "shell.execute_reply": "2021-09-19T18:38:30.092402Z",
     "shell.execute_reply.started": "2021-09-19T18:38:29.908561Z"
    }
   },
   "outputs": [
    {
     "data": {
      "text/plain": [
       "<lifetimes.BetaGeoFitter: fitted with 3876 subjects, a: 1.35, alpha: 0.05, b: 7.06, r: 0.29>"
      ]
     },
     "execution_count": 24,
     "metadata": {},
     "output_type": "execute_result"
    }
   ],
   "source": [
    "bgf = BetaGeoFitter(penalizer_coef=0.001)\n",
    "bgf.fit(cltv_df['frequency'], cltv_df['recency'], cltv_df['T'])"
   ]
  },
  {
   "cell_type": "code",
   "execution_count": 26,
   "metadata": {},
   "outputs": [
    {
     "data": {
      "image/png": "[encoded data removed]",
      "text/plain": [
       "<Figure size 640x480 with 1 Axes>"
      ]
     },
     "metadata": {},
     "output_type": "display_data"
    }
   ],
   "source": [
    "ax = plot_period_transactions(bgf, max_frequency=7)\n",
    "ax.set_yscale('log')\n",
    "sns.despine();"
   ]
  },
  {
   "cell_type": "markdown",
   "metadata": {},
   "source": [
    "Who are the **10 customers** we expect the **most to purchase in a week?**"
   ]
  },
  {
   "cell_type": "code",
   "execution_count": 27,
   "metadata": {
    "execution": {
     "iopub.execute_input": "2021-09-19T18:38:51.1311Z",
     "iopub.status.busy": "2021-09-19T18:38:51.130387Z",
     "iopub.status.idle": "2021-09-19T18:38:51.151104Z",
     "shell.execute_reply": "2021-09-19T18:38:51.150241Z",
     "shell.execute_reply.started": "2021-09-19T18:38:51.131035Z"
    }
   },
   "outputs": [
    {
     "data": {
      "text/plain": [
       "Customer ID\n",
       "16000.0    3.360455\n",
       "15060.0    2.027119\n",
       "18139.0    1.827204\n",
       "16479.0    1.075260\n",
       "17509.0    0.729306\n",
       "17100.0    0.660463\n",
       "14785.0    0.650028\n",
       "17523.0    0.627683\n",
       "13596.0    0.571890\n",
       "17461.0    0.518625\n",
       "dtype: float64"
      ]
     },
     "execution_count": 27,
     "metadata": {},
     "output_type": "execute_result"
    }
   ],
   "source": [
    "bgf.conditional_expected_number_of_purchases_up_to_time(1,\n",
    "                                                        cltv_df['frequency'],\n",
    "                                                        cltv_df['recency'],\n",
    "                                                        cltv_df['T']).sort_values(ascending=False).head(10)"
   ]
  },
  {
   "cell_type": "markdown",
   "metadata": {},
   "source": [
    "Who are the **10 customers** we expect the **most to purchase in a month?**"
   ]
  },
  {
   "cell_type": "code",
   "execution_count": 28,
   "metadata": {
    "execution": {
     "iopub.execute_input": "2021-09-19T18:38:53.981226Z",
     "iopub.status.busy": "2021-09-19T18:38:53.980957Z",
     "iopub.status.idle": "2021-09-19T18:38:54.002282Z",
     "shell.execute_reply": "2021-09-19T18:38:54.00172Z",
     "shell.execute_reply.started": "2021-09-19T18:38:53.981198Z"
    }
   },
   "outputs": [
    {
     "data": {
      "text/plain": [
       "Customer ID\n",
       "16000.0    7.967858\n",
       "15060.0    5.707939\n",
       "18139.0    5.626592\n",
       "16479.0    3.310199\n",
       "17509.0    2.615684\n",
       "17100.0    2.213817\n",
       "14785.0    2.126422\n",
       "17523.0    2.016140\n",
       "13596.0    1.832921\n",
       "17461.0    1.804037\n",
       "dtype: float64"
      ]
     },
     "execution_count": 28,
     "metadata": {},
     "output_type": "execute_result"
    }
   ],
   "source": [
    "bgf.predict(4,\n",
    "            cltv_df['frequency'],\n",
    "            cltv_df['recency'],\n",
    "            cltv_df['T']).sort_values(ascending=False).head(10)"
   ]
  },
  {
   "cell_type": "markdown",
   "metadata": {},
   "source": [
    "What is the Expected Number of Sales of the Whole Company in **3 Months?**"
   ]
  },
  {
   "cell_type": "code",
   "execution_count": 29,
   "metadata": {
    "execution": {
     "iopub.execute_input": "2021-09-19T18:38:55.892813Z",
     "iopub.status.busy": "2021-09-19T18:38:55.892521Z",
     "iopub.status.idle": "2021-09-19T18:38:55.908742Z",
     "shell.execute_reply": "2021-09-19T18:38:55.907927Z",
     "shell.execute_reply.started": "2021-09-19T18:38:55.89278Z"
    }
   },
   "outputs": [
    {
     "data": {
      "text/plain": [
       "615.1225775367556"
      ]
     },
     "execution_count": 29,
     "metadata": {},
     "output_type": "execute_result"
    }
   ],
   "source": [
    "bgf.predict(4 * 3,\n",
    "            cltv_df['frequency'],\n",
    "            cltv_df['recency'],\n",
    "            cltv_df['T']).sum()"
   ]
  },
  {
   "cell_type": "markdown",
   "metadata": {},
   "source": [
    "What is the Expected Number of Sales of the Whole Company in **1 Months?**"
   ]
  },
  {
   "cell_type": "code",
   "execution_count": 30,
   "metadata": {
    "execution": {
     "iopub.execute_input": "2021-09-19T18:38:57.768706Z",
     "iopub.status.busy": "2021-09-19T18:38:57.768389Z",
     "iopub.status.idle": "2021-09-19T18:38:57.787859Z",
     "shell.execute_reply": "2021-09-19T18:38:57.78724Z",
     "shell.execute_reply.started": "2021-09-19T18:38:57.768675Z"
    }
   },
   "outputs": [
    {
     "data": {
      "text/plain": [
       "234.52469240150964"
      ]
     },
     "execution_count": 30,
     "metadata": {},
     "output_type": "execute_result"
    }
   ],
   "source": [
    "bgf.predict(4,\n",
    "            cltv_df['frequency'],\n",
    "            cltv_df['recency'],\n",
    "            cltv_df['T']).sum()"
   ]
  },
  {
   "cell_type": "markdown",
   "metadata": {},
   "source": [
    "Let's add columns to the data set, where we can observe the purchasing behavior of customers in 1 week, 1 month and 3-month periods. \n",
    "\n",
    "> The BGNBD model only gives an idea about the purchase frequency. It does not produce a conclusion about profitability."
   ]
  },
  {
   "cell_type": "code",
   "execution_count": 31,
   "metadata": {
    "execution": {
     "iopub.execute_input": "2021-09-19T18:38:59.973638Z",
     "iopub.status.busy": "2021-09-19T18:38:59.970806Z",
     "iopub.status.idle": "2021-09-19T18:39:00.012213Z",
     "shell.execute_reply": "2021-09-19T18:39:00.011496Z",
     "shell.execute_reply.started": "2021-09-19T18:38:59.973586Z"
    }
   },
   "outputs": [],
   "source": [
    "    cltv_df[\"expected_purc_1_week\"] = bgf.predict(1,\n",
    "                                                  cltv_df['frequency'],\n",
    "                                                  cltv_df['recency'],\n",
    "                                                  cltv_df['T'])\n",
    "\n",
    "    cltv_df[\"expected_purc_1_month\"] = bgf.predict(4,\n",
    "                                                   cltv_df['frequency'],\n",
    "                                                   cltv_df['recency'],\n",
    "                                                   cltv_df['T'])\n",
    "\n",
    "    cltv_df[\"expected_purc_3_month\"] = bgf.predict(12,\n",
    "                                                   cltv_df['frequency'],\n",
    "                                                   cltv_df['recency'],\n",
    "                                                   cltv_df['T'])"
   ]
  },
  {
   "cell_type": "markdown",
   "metadata": {},
   "source": [
    " Let's bring the customers with high frequency and monetary values for 1 week projection."
   ]
  },
  {
   "cell_type": "code",
   "execution_count": 32,
   "metadata": {
    "execution": {
     "iopub.execute_input": "2021-09-19T18:39:02.6303Z",
     "iopub.status.busy": "2021-09-19T18:39:02.629519Z",
     "iopub.status.idle": "2021-09-19T18:39:02.649073Z",
     "shell.execute_reply": "2021-09-19T18:39:02.648166Z",
     "shell.execute_reply.started": "2021-09-19T18:39:02.630262Z"
    }
   },
   "outputs": [
    {
     "data": {
      "text/html": [
       "<div>\n",
       "<style scoped>\n",
       "    .dataframe tbody tr th:only-of-type {\n",
       "        vertical-align: middle;\n",
       "    }\n",
       "\n",
       "    .dataframe tbody tr th {\n",
       "        vertical-align: top;\n",
       "    }\n",
       "\n",
       "    .dataframe thead th {\n",
       "        text-align: right;\n",
       "    }\n",
       "</style>\n",
       "<table border=\"1\" class=\"dataframe\">\n",
       "  <thead>\n",
       "    <tr style=\"text-align: right;\">\n",
       "      <th></th>\n",
       "      <th>recency</th>\n",
       "      <th>T</th>\n",
       "      <th>frequency</th>\n",
       "      <th>monetary</th>\n",
       "      <th>expected_purc_1_week</th>\n",
       "      <th>expected_purc_1_month</th>\n",
       "      <th>expected_purc_3_month</th>\n",
       "    </tr>\n",
       "    <tr>\n",
       "      <th>Customer ID</th>\n",
       "      <th></th>\n",
       "      <th></th>\n",
       "      <th></th>\n",
       "      <th></th>\n",
       "      <th></th>\n",
       "      <th></th>\n",
       "      <th></th>\n",
       "    </tr>\n",
       "  </thead>\n",
       "  <tbody>\n",
       "    <tr>\n",
       "      <th>16000.0</th>\n",
       "      <td>0.571429</td>\n",
       "      <td>0.571429</td>\n",
       "      <td>3</td>\n",
       "      <td>2167.520000</td>\n",
       "      <td>3.360455</td>\n",
       "      <td>7.967858</td>\n",
       "      <td>12.365927</td>\n",
       "    </tr>\n",
       "    <tr>\n",
       "      <th>15060.0</th>\n",
       "      <td>1.285714</td>\n",
       "      <td>1.428571</td>\n",
       "      <td>4</td>\n",
       "      <td>75.772500</td>\n",
       "      <td>2.027119</td>\n",
       "      <td>5.707939</td>\n",
       "      <td>10.133361</td>\n",
       "    </tr>\n",
       "    <tr>\n",
       "      <th>18139.0</th>\n",
       "      <td>2.714286</td>\n",
       "      <td>2.714286</td>\n",
       "      <td>6</td>\n",
       "      <td>1406.390000</td>\n",
       "      <td>1.827204</td>\n",
       "      <td>5.626592</td>\n",
       "      <td>10.892412</td>\n",
       "    </tr>\n",
       "    <tr>\n",
       "      <th>16479.0</th>\n",
       "      <td>1.571429</td>\n",
       "      <td>1.571429</td>\n",
       "      <td>2</td>\n",
       "      <td>150.415000</td>\n",
       "      <td>1.075260</td>\n",
       "      <td>3.310199</td>\n",
       "      <td>6.497238</td>\n",
       "    </tr>\n",
       "    <tr>\n",
       "      <th>17509.0</th>\n",
       "      <td>8.428571</td>\n",
       "      <td>9.142857</td>\n",
       "      <td>8</td>\n",
       "      <td>764.392500</td>\n",
       "      <td>0.729306</td>\n",
       "      <td>2.615684</td>\n",
       "      <td>6.231307</td>\n",
       "    </tr>\n",
       "    <tr>\n",
       "      <th>17100.0</th>\n",
       "      <td>2.714286</td>\n",
       "      <td>2.714286</td>\n",
       "      <td>2</td>\n",
       "      <td>485.870000</td>\n",
       "      <td>0.660463</td>\n",
       "      <td>2.213817</td>\n",
       "      <td>4.811533</td>\n",
       "    </tr>\n",
       "    <tr>\n",
       "      <th>14785.0</th>\n",
       "      <td>1.571429</td>\n",
       "      <td>2.285714</td>\n",
       "      <td>2</td>\n",
       "      <td>38.700000</td>\n",
       "      <td>0.650028</td>\n",
       "      <td>2.126422</td>\n",
       "      <td>4.479111</td>\n",
       "    </tr>\n",
       "    <tr>\n",
       "      <th>17523.0</th>\n",
       "      <td>1.714286</td>\n",
       "      <td>2.857143</td>\n",
       "      <td>4</td>\n",
       "      <td>161.137500</td>\n",
       "      <td>0.627683</td>\n",
       "      <td>2.016140</td>\n",
       "      <td>4.116741</td>\n",
       "    </tr>\n",
       "    <tr>\n",
       "      <th>13596.0</th>\n",
       "      <td>1.000000</td>\n",
       "      <td>2.000000</td>\n",
       "      <td>2</td>\n",
       "      <td>348.520000</td>\n",
       "      <td>0.571890</td>\n",
       "      <td>1.832921</td>\n",
       "      <td>3.765960</td>\n",
       "    </tr>\n",
       "    <tr>\n",
       "      <th>17461.0</th>\n",
       "      <td>3.428571</td>\n",
       "      <td>4.428571</td>\n",
       "      <td>3</td>\n",
       "      <td>252.486667</td>\n",
       "      <td>0.518625</td>\n",
       "      <td>1.804037</td>\n",
       "      <td>4.114395</td>\n",
       "    </tr>\n",
       "  </tbody>\n",
       "</table>\n",
       "</div>"
      ],
      "text/plain": [
       "              recency         T  frequency     monetary  expected_purc_1_week  \\\n",
       "Customer ID                                                                     \n",
       "16000.0      0.571429  0.571429          3  2167.520000              3.360455   \n",
       "15060.0      1.285714  1.428571          4    75.772500              2.027119   \n",
       "18139.0      2.714286  2.714286          6  1406.390000              1.827204   \n",
       "16479.0      1.571429  1.571429          2   150.415000              1.075260   \n",
       "17509.0      8.428571  9.142857          8   764.392500              0.729306   \n",
       "17100.0      2.714286  2.714286          2   485.870000              0.660463   \n",
       "14785.0      1.571429  2.285714          2    38.700000              0.650028   \n",
       "17523.0      1.714286  2.857143          4   161.137500              0.627683   \n",
       "13596.0      1.000000  2.000000          2   348.520000              0.571890   \n",
       "17461.0      3.428571  4.428571          3   252.486667              0.518625   \n",
       "\n",
       "             expected_purc_1_month  expected_purc_3_month  \n",
       "Customer ID                                                \n",
       "16000.0                   7.967858              12.365927  \n",
       "15060.0                   5.707939              10.133361  \n",
       "18139.0                   5.626592              10.892412  \n",
       "16479.0                   3.310199               6.497238  \n",
       "17509.0                   2.615684               6.231307  \n",
       "17100.0                   2.213817               4.811533  \n",
       "14785.0                   2.126422               4.479111  \n",
       "17523.0                   2.016140               4.116741  \n",
       "13596.0                   1.832921               3.765960  \n",
       "17461.0                   1.804037               4.114395  "
      ]
     },
     "execution_count": 32,
     "metadata": {},
     "output_type": "execute_result"
    }
   ],
   "source": [
    "cltv_df.sort_values(\"expected_purc_1_week\", ascending=False).head(10)"
   ]
  },
  {
   "cell_type": "markdown",
   "metadata": {},
   "source": [
    "# Gamma-Gamma Model"
   ]
  },
  {
   "cell_type": "markdown",
   "metadata": {},
   "source": [
    "![](https://miro.medium.com/max/700/1*YjLKQnJE3wr7LQlovO78iQ.png)"
   ]
  },
  {
   "cell_type": "markdown",
   "metadata": {},
   "source": [
    "It is used for the estimation of the conditional expected average profit in a certain period of time."
   ]
  },
  {
   "cell_type": "code",
   "execution_count": 33,
   "metadata": {
    "execution": {
     "iopub.execute_input": "2021-09-19T18:39:11.247039Z",
     "iopub.status.busy": "2021-09-19T18:39:11.246727Z",
     "iopub.status.idle": "2021-09-19T18:39:11.333377Z",
     "shell.execute_reply": "2021-09-19T18:39:11.332438Z",
     "shell.execute_reply.started": "2021-09-19T18:39:11.247006Z"
    }
   },
   "outputs": [],
   "source": [
    "ggf = GammaGammaFitter(penalizer_coef=0.01) \n",
    "ggf.fit(cltv_df['frequency'], cltv_df['monetary'])\n",
    "cltv_df[\"expected_average_profit\"] = ggf.conditional_expected_average_profit(cltv_df['frequency'], cltv_df['monetary'])"
   ]
  },
  {
   "cell_type": "code",
   "execution_count": 34,
   "metadata": {},
   "outputs": [
    {
     "data": {
      "text/html": [
       "<div>\n",
       "<style scoped>\n",
       "    .dataframe tbody tr th:only-of-type {\n",
       "        vertical-align: middle;\n",
       "    }\n",
       "\n",
       "    .dataframe tbody tr th {\n",
       "        vertical-align: top;\n",
       "    }\n",
       "\n",
       "    .dataframe thead th {\n",
       "        text-align: right;\n",
       "    }\n",
       "</style>\n",
       "<table border=\"1\" class=\"dataframe\">\n",
       "  <thead>\n",
       "    <tr style=\"text-align: right;\">\n",
       "      <th></th>\n",
       "      <th>recency</th>\n",
       "      <th>T</th>\n",
       "      <th>frequency</th>\n",
       "      <th>monetary</th>\n",
       "      <th>expected_purc_1_week</th>\n",
       "      <th>expected_purc_1_month</th>\n",
       "      <th>expected_purc_3_month</th>\n",
       "      <th>expected_average_profit</th>\n",
       "    </tr>\n",
       "    <tr>\n",
       "      <th>Customer ID</th>\n",
       "      <th></th>\n",
       "      <th></th>\n",
       "      <th></th>\n",
       "      <th></th>\n",
       "      <th></th>\n",
       "      <th></th>\n",
       "      <th></th>\n",
       "      <th></th>\n",
       "    </tr>\n",
       "  </thead>\n",
       "  <tbody>\n",
       "    <tr>\n",
       "      <th>12346.0</th>\n",
       "      <td>46.714286</td>\n",
       "      <td>103.857143</td>\n",
       "      <td>12</td>\n",
       "      <td>54.341667</td>\n",
       "      <td>8.616355e-05</td>\n",
       "      <td>3.403689e-04</td>\n",
       "      <td>9.886011e-04</td>\n",
       "      <td>55.443465</td>\n",
       "    </tr>\n",
       "    <tr>\n",
       "      <th>12745.0</th>\n",
       "      <td>69.714286</td>\n",
       "      <td>82.142857</td>\n",
       "      <td>2</td>\n",
       "      <td>361.925000</td>\n",
       "      <td>2.235285e-02</td>\n",
       "      <td>8.872537e-02</td>\n",
       "      <td>2.608930e-01</td>\n",
       "      <td>397.729576</td>\n",
       "    </tr>\n",
       "    <tr>\n",
       "      <th>12747.0</th>\n",
       "      <td>0.428571</td>\n",
       "      <td>104.714286</td>\n",
       "      <td>26</td>\n",
       "      <td>356.790000</td>\n",
       "      <td>1.692255e-61</td>\n",
       "      <td>6.667730e-61</td>\n",
       "      <td>1.924221e-60</td>\n",
       "      <td>359.292016</td>\n",
       "    </tr>\n",
       "    <tr>\n",
       "      <th>12748.0</th>\n",
       "      <td>0.285714</td>\n",
       "      <td>105.142857</td>\n",
       "      <td>336</td>\n",
       "      <td>156.497321</td>\n",
       "      <td>0.000000e+00</td>\n",
       "      <td>0.000000e+00</td>\n",
       "      <td>0.000000e+00</td>\n",
       "      <td>156.588021</td>\n",
       "    </tr>\n",
       "    <tr>\n",
       "      <th>12749.0</th>\n",
       "      <td>0.714286</td>\n",
       "      <td>74.571429</td>\n",
       "      <td>9</td>\n",
       "      <td>764.311111</td>\n",
       "      <td>4.476603e-19</td>\n",
       "      <td>1.762662e-18</td>\n",
       "      <td>5.078724e-18</td>\n",
       "      <td>779.503625</td>\n",
       "    </tr>\n",
       "  </tbody>\n",
       "</table>\n",
       "</div>"
      ],
      "text/plain": [
       "               recency           T  frequency    monetary  \\\n",
       "Customer ID                                                 \n",
       "12346.0      46.714286  103.857143         12   54.341667   \n",
       "12745.0      69.714286   82.142857          2  361.925000   \n",
       "12747.0       0.428571  104.714286         26  356.790000   \n",
       "12748.0       0.285714  105.142857        336  156.497321   \n",
       "12749.0       0.714286   74.571429          9  764.311111   \n",
       "\n",
       "             expected_purc_1_week  expected_purc_1_month  \\\n",
       "Customer ID                                                \n",
       "12346.0              8.616355e-05           3.403689e-04   \n",
       "12745.0              2.235285e-02           8.872537e-02   \n",
       "12747.0              1.692255e-61           6.667730e-61   \n",
       "12748.0              0.000000e+00           0.000000e+00   \n",
       "12749.0              4.476603e-19           1.762662e-18   \n",
       "\n",
       "             expected_purc_3_month  expected_average_profit  \n",
       "Customer ID                                                  \n",
       "12346.0               9.886011e-04                55.443465  \n",
       "12745.0               2.608930e-01               397.729576  \n",
       "12747.0               1.924221e-60               359.292016  \n",
       "12748.0               0.000000e+00               156.588021  \n",
       "12749.0               5.078724e-18               779.503625  "
      ]
     },
     "execution_count": 34,
     "metadata": {},
     "output_type": "execute_result"
    }
   ],
   "source": [
    "cltv_df.head()"
   ]
  },
  {
   "cell_type": "markdown",
   "metadata": {},
   "source": [
    "There is no relationship between purchasing frequency and the calculated monetary value.\n",
    "The average calculated value differs for each customer."
   ]
  },
  {
   "cell_type": "markdown",
   "metadata": {},
   "source": [
    "# Calculation of CLTV with BG-NBD and GG model."
   ]
  },
  {
   "cell_type": "markdown",
   "metadata": {},
   "source": [
    "Now let's set up a model that makes a 6-month CLTV prediction by combining our BG-NBD and Gamma-Gamma model. As a result, we will bring our customers who are most likely to shop in a 6-month projection."
   ]
  },
  {
   "cell_type": "code",
   "execution_count": 35,
   "metadata": {
    "execution": {
     "iopub.execute_input": "2021-09-19T18:39:13.112225Z",
     "iopub.status.busy": "2021-09-19T18:39:13.111935Z",
     "iopub.status.idle": "2021-09-19T18:39:13.231635Z",
     "shell.execute_reply": "2021-09-19T18:39:13.230791Z",
     "shell.execute_reply.started": "2021-09-19T18:39:13.112188Z"
    }
   },
   "outputs": [],
   "source": [
    "cltv = ggf.customer_lifetime_value(bgf,\n",
    "                                   cltv_df['frequency'],\n",
    "                                   cltv_df['recency'],\n",
    "                                   cltv_df['T'],\n",
    "                                   cltv_df['monetary'],\n",
    "                                   time=6,              ### Prediction for 6 months   \n",
    "                                   freq=\"W\",            ### Frequency of T.\n",
    "                                   discount_rate=0.01)"
   ]
  },
  {
   "cell_type": "markdown",
   "metadata": {},
   "source": [
    "We merge the CLTV value we have calculated into the df we use. So add it as a colon."
   ]
  },
  {
   "cell_type": "code",
   "execution_count": 36,
   "metadata": {
    "execution": {
     "iopub.execute_input": "2021-09-19T18:39:15.136209Z",
     "iopub.status.busy": "2021-09-19T18:39:15.135378Z",
     "iopub.status.idle": "2021-09-19T18:39:15.150644Z",
     "shell.execute_reply": "2021-09-19T18:39:15.149688Z",
     "shell.execute_reply.started": "2021-09-19T18:39:15.136168Z"
    }
   },
   "outputs": [],
   "source": [
    "cltv = cltv.reset_index()\n",
    "cltv_final = cltv_df.merge(cltv, on=\"Customer ID\", how=\"left\")"
   ]
  },
  {
   "cell_type": "code",
   "execution_count": 37,
   "metadata": {
    "execution": {
     "iopub.execute_input": "2021-09-19T18:39:17.337287Z",
     "iopub.status.busy": "2021-09-19T18:39:17.337006Z",
     "iopub.status.idle": "2021-09-19T18:39:17.357036Z",
     "shell.execute_reply": "2021-09-19T18:39:17.356062Z",
     "shell.execute_reply.started": "2021-09-19T18:39:17.337258Z"
    }
   },
   "outputs": [
    {
     "data": {
      "text/html": [
       "<div>\n",
       "<style scoped>\n",
       "    .dataframe tbody tr th:only-of-type {\n",
       "        vertical-align: middle;\n",
       "    }\n",
       "\n",
       "    .dataframe tbody tr th {\n",
       "        vertical-align: top;\n",
       "    }\n",
       "\n",
       "    .dataframe thead th {\n",
       "        text-align: right;\n",
       "    }\n",
       "</style>\n",
       "<table border=\"1\" class=\"dataframe\">\n",
       "  <thead>\n",
       "    <tr style=\"text-align: right;\">\n",
       "      <th></th>\n",
       "      <th>Customer ID</th>\n",
       "      <th>recency</th>\n",
       "      <th>T</th>\n",
       "      <th>frequency</th>\n",
       "      <th>monetary</th>\n",
       "      <th>expected_purc_1_week</th>\n",
       "      <th>expected_purc_1_month</th>\n",
       "      <th>expected_purc_3_month</th>\n",
       "      <th>expected_average_profit</th>\n",
       "      <th>clv</th>\n",
       "    </tr>\n",
       "  </thead>\n",
       "  <tbody>\n",
       "    <tr>\n",
       "      <th>0</th>\n",
       "      <td>12346.0</td>\n",
       "      <td>46.714286</td>\n",
       "      <td>103.857143</td>\n",
       "      <td>12</td>\n",
       "      <td>54.341667</td>\n",
       "      <td>8.616355e-05</td>\n",
       "      <td>3.403689e-04</td>\n",
       "      <td>9.886011e-04</td>\n",
       "      <td>55.443465</td>\n",
       "      <td>1.091173e-01</td>\n",
       "    </tr>\n",
       "    <tr>\n",
       "      <th>1</th>\n",
       "      <td>12745.0</td>\n",
       "      <td>69.714286</td>\n",
       "      <td>82.142857</td>\n",
       "      <td>2</td>\n",
       "      <td>361.925000</td>\n",
       "      <td>2.235285e-02</td>\n",
       "      <td>8.872537e-02</td>\n",
       "      <td>2.608930e-01</td>\n",
       "      <td>397.729576</td>\n",
       "      <td>2.106647e+02</td>\n",
       "    </tr>\n",
       "    <tr>\n",
       "      <th>2</th>\n",
       "      <td>12747.0</td>\n",
       "      <td>0.428571</td>\n",
       "      <td>104.714286</td>\n",
       "      <td>26</td>\n",
       "      <td>356.790000</td>\n",
       "      <td>1.692255e-61</td>\n",
       "      <td>6.667730e-61</td>\n",
       "      <td>1.924221e-60</td>\n",
       "      <td>359.292016</td>\n",
       "      <td>1.362801e-57</td>\n",
       "    </tr>\n",
       "    <tr>\n",
       "      <th>3</th>\n",
       "      <td>12748.0</td>\n",
       "      <td>0.285714</td>\n",
       "      <td>105.142857</td>\n",
       "      <td>336</td>\n",
       "      <td>156.497321</td>\n",
       "      <td>0.000000e+00</td>\n",
       "      <td>0.000000e+00</td>\n",
       "      <td>0.000000e+00</td>\n",
       "      <td>156.588021</td>\n",
       "      <td>0.000000e+00</td>\n",
       "    </tr>\n",
       "    <tr>\n",
       "      <th>4</th>\n",
       "      <td>12749.0</td>\n",
       "      <td>0.714286</td>\n",
       "      <td>74.571429</td>\n",
       "      <td>9</td>\n",
       "      <td>764.311111</td>\n",
       "      <td>4.476603e-19</td>\n",
       "      <td>1.762662e-18</td>\n",
       "      <td>5.078724e-18</td>\n",
       "      <td>779.503625</td>\n",
       "      <td>7.786593e-15</td>\n",
       "    </tr>\n",
       "  </tbody>\n",
       "</table>\n",
       "</div>"
      ],
      "text/plain": [
       "   Customer ID    recency           T  frequency    monetary  \\\n",
       "0      12346.0  46.714286  103.857143         12   54.341667   \n",
       "1      12745.0  69.714286   82.142857          2  361.925000   \n",
       "2      12747.0   0.428571  104.714286         26  356.790000   \n",
       "3      12748.0   0.285714  105.142857        336  156.497321   \n",
       "4      12749.0   0.714286   74.571429          9  764.311111   \n",
       "\n",
       "   expected_purc_1_week  expected_purc_1_month  expected_purc_3_month  \\\n",
       "0          8.616355e-05           3.403689e-04           9.886011e-04   \n",
       "1          2.235285e-02           8.872537e-02           2.608930e-01   \n",
       "2          1.692255e-61           6.667730e-61           1.924221e-60   \n",
       "3          0.000000e+00           0.000000e+00           0.000000e+00   \n",
       "4          4.476603e-19           1.762662e-18           5.078724e-18   \n",
       "\n",
       "   expected_average_profit           clv  \n",
       "0                55.443465  1.091173e-01  \n",
       "1               397.729576  2.106647e+02  \n",
       "2               359.292016  1.362801e-57  \n",
       "3               156.588021  0.000000e+00  \n",
       "4               779.503625  7.786593e-15  "
      ]
     },
     "execution_count": 37,
     "metadata": {},
     "output_type": "execute_result"
    }
   ],
   "source": [
    "cltv_final.head()"
   ]
  },
  {
   "cell_type": "markdown",
   "metadata": {},
   "source": [
    "# Scaling CLV Values"
   ]
  },
  {
   "cell_type": "markdown",
   "metadata": {},
   "source": [
    "We scale them between 1 and 0 so that the values we get can give an idea of size and smallness, so it provides us with information without any calculations."
   ]
  },
  {
   "cell_type": "code",
   "execution_count": 38,
   "metadata": {
    "execution": {
     "iopub.execute_input": "2021-09-19T18:39:20.630244Z",
     "iopub.status.busy": "2021-09-19T18:39:20.629926Z",
     "iopub.status.idle": "2021-09-19T18:39:20.662064Z",
     "shell.execute_reply": "2021-09-19T18:39:20.660951Z",
     "shell.execute_reply.started": "2021-09-19T18:39:20.63021Z"
    }
   },
   "outputs": [
    {
     "data": {
      "text/html": [
       "<div>\n",
       "<style scoped>\n",
       "    .dataframe tbody tr th:only-of-type {\n",
       "        vertical-align: middle;\n",
       "    }\n",
       "\n",
       "    .dataframe tbody tr th {\n",
       "        vertical-align: top;\n",
       "    }\n",
       "\n",
       "    .dataframe thead th {\n",
       "        text-align: right;\n",
       "    }\n",
       "</style>\n",
       "<table border=\"1\" class=\"dataframe\">\n",
       "  <thead>\n",
       "    <tr style=\"text-align: right;\">\n",
       "      <th></th>\n",
       "      <th>Customer ID</th>\n",
       "      <th>recency</th>\n",
       "      <th>T</th>\n",
       "      <th>frequency</th>\n",
       "      <th>monetary</th>\n",
       "      <th>expected_purc_1_week</th>\n",
       "      <th>expected_purc_1_month</th>\n",
       "      <th>expected_purc_3_month</th>\n",
       "      <th>expected_average_profit</th>\n",
       "      <th>clv</th>\n",
       "      <th>scaled_clv</th>\n",
       "    </tr>\n",
       "  </thead>\n",
       "  <tbody>\n",
       "    <tr>\n",
       "      <th>2244</th>\n",
       "      <td>16000.0</td>\n",
       "      <td>0.571429</td>\n",
       "      <td>0.571429</td>\n",
       "      <td>3</td>\n",
       "      <td>2167.5200</td>\n",
       "      <td>3.360455</td>\n",
       "      <td>7.967858</td>\n",
       "      <td>12.365927</td>\n",
       "      <td>2299.526650</td>\n",
       "      <td>34266.340334</td>\n",
       "      <td>1.000000</td>\n",
       "    </tr>\n",
       "    <tr>\n",
       "      <th>3778</th>\n",
       "      <td>18139.0</td>\n",
       "      <td>2.714286</td>\n",
       "      <td>2.714286</td>\n",
       "      <td>6</td>\n",
       "      <td>1406.3900</td>\n",
       "      <td>1.827204</td>\n",
       "      <td>5.626592</td>\n",
       "      <td>10.892412</td>\n",
       "      <td>1448.189646</td>\n",
       "      <td>21387.049664</td>\n",
       "      <td>0.624142</td>\n",
       "    </tr>\n",
       "    <tr>\n",
       "      <th>3349</th>\n",
       "      <td>17509.0</td>\n",
       "      <td>8.428571</td>\n",
       "      <td>9.142857</td>\n",
       "      <td>8</td>\n",
       "      <td>764.3925</td>\n",
       "      <td>0.729306</td>\n",
       "      <td>2.615684</td>\n",
       "      <td>6.231307</td>\n",
       "      <td>781.527226</td>\n",
       "      <td>7700.067514</td>\n",
       "      <td>0.224712</td>\n",
       "    </tr>\n",
       "    <tr>\n",
       "      <th>3057</th>\n",
       "      <td>17100.0</td>\n",
       "      <td>2.714286</td>\n",
       "      <td>2.714286</td>\n",
       "      <td>2</td>\n",
       "      <td>485.8700</td>\n",
       "      <td>0.660463</td>\n",
       "      <td>2.213817</td>\n",
       "      <td>4.811533</td>\n",
       "      <td>533.231626</td>\n",
       "      <td>3800.052849</td>\n",
       "      <td>0.110898</td>\n",
       "    </tr>\n",
       "    <tr>\n",
       "      <th>2068</th>\n",
       "      <td>15749.0</td>\n",
       "      <td>33.714286</td>\n",
       "      <td>47.571429</td>\n",
       "      <td>3</td>\n",
       "      <td>2724.3800</td>\n",
       "      <td>0.047018</td>\n",
       "      <td>0.185151</td>\n",
       "      <td>0.533713</td>\n",
       "      <td>2889.958858</td>\n",
       "      <td>3037.589445</td>\n",
       "      <td>0.088646</td>\n",
       "    </tr>\n",
       "    <tr>\n",
       "      <th>2517</th>\n",
       "      <td>16376.0</td>\n",
       "      <td>1.428571</td>\n",
       "      <td>2.571429</td>\n",
       "      <td>2</td>\n",
       "      <td>493.5050</td>\n",
       "      <td>0.499350</td>\n",
       "      <td>1.661405</td>\n",
       "      <td>3.575880</td>\n",
       "      <td>541.578539</td>\n",
       "      <td>2847.756076</td>\n",
       "      <td>0.083107</td>\n",
       "    </tr>\n",
       "    <tr>\n",
       "      <th>951</th>\n",
       "      <td>14164.0</td>\n",
       "      <td>10.285714</td>\n",
       "      <td>11.714286</td>\n",
       "      <td>2</td>\n",
       "      <td>815.8850</td>\n",
       "      <td>0.156137</td>\n",
       "      <td>0.593793</td>\n",
       "      <td>1.584558</td>\n",
       "      <td>894.018339</td>\n",
       "      <td>2528.493310</td>\n",
       "      <td>0.073789</td>\n",
       "    </tr>\n",
       "    <tr>\n",
       "      <th>1839</th>\n",
       "      <td>15427.0</td>\n",
       "      <td>4.857143</td>\n",
       "      <td>6.857143</td>\n",
       "      <td>3</td>\n",
       "      <td>494.3800</td>\n",
       "      <td>0.315134</td>\n",
       "      <td>1.144667</td>\n",
       "      <td>2.798662</td>\n",
       "      <td>525.515686</td>\n",
       "      <td>2393.765300</td>\n",
       "      <td>0.069858</td>\n",
       "    </tr>\n",
       "    <tr>\n",
       "      <th>1518</th>\n",
       "      <td>14971.0</td>\n",
       "      <td>5.142857</td>\n",
       "      <td>6.285714</td>\n",
       "      <td>3</td>\n",
       "      <td>372.1900</td>\n",
       "      <td>0.388353</td>\n",
       "      <td>1.399989</td>\n",
       "      <td>3.379073</td>\n",
       "      <td>395.959044</td>\n",
       "      <td>2151.952224</td>\n",
       "      <td>0.062801</td>\n",
       "    </tr>\n",
       "    <tr>\n",
       "      <th>900</th>\n",
       "      <td>14091.0</td>\n",
       "      <td>93.571429</td>\n",
       "      <td>99.857143</td>\n",
       "      <td>2</td>\n",
       "      <td>4246.5450</td>\n",
       "      <td>0.019160</td>\n",
       "      <td>0.076155</td>\n",
       "      <td>0.224705</td>\n",
       "      <td>4644.564655</td>\n",
       "      <td>2130.496224</td>\n",
       "      <td>0.062175</td>\n",
       "    </tr>\n",
       "  </tbody>\n",
       "</table>\n",
       "</div>"
      ],
      "text/plain": [
       "      Customer ID    recency          T  frequency   monetary  \\\n",
       "2244      16000.0   0.571429   0.571429          3  2167.5200   \n",
       "3778      18139.0   2.714286   2.714286          6  1406.3900   \n",
       "3349      17509.0   8.428571   9.142857          8   764.3925   \n",
       "3057      17100.0   2.714286   2.714286          2   485.8700   \n",
       "2068      15749.0  33.714286  47.571429          3  2724.3800   \n",
       "2517      16376.0   1.428571   2.571429          2   493.5050   \n",
       "951       14164.0  10.285714  11.714286          2   815.8850   \n",
       "1839      15427.0   4.857143   6.857143          3   494.3800   \n",
       "1518      14971.0   5.142857   6.285714          3   372.1900   \n",
       "900       14091.0  93.571429  99.857143          2  4246.5450   \n",
       "\n",
       "      expected_purc_1_week  expected_purc_1_month  expected_purc_3_month  \\\n",
       "2244              3.360455               7.967858              12.365927   \n",
       "3778              1.827204               5.626592              10.892412   \n",
       "3349              0.729306               2.615684               6.231307   \n",
       "3057              0.660463               2.213817               4.811533   \n",
       "2068              0.047018               0.185151               0.533713   \n",
       "2517              0.499350               1.661405               3.575880   \n",
       "951               0.156137               0.593793               1.584558   \n",
       "1839              0.315134               1.144667               2.798662   \n",
       "1518              0.388353               1.399989               3.379073   \n",
       "900               0.019160               0.076155               0.224705   \n",
       "\n",
       "      expected_average_profit           clv  scaled_clv  \n",
       "2244              2299.526650  34266.340334    1.000000  \n",
       "3778              1448.189646  21387.049664    0.624142  \n",
       "3349               781.527226   7700.067514    0.224712  \n",
       "3057               533.231626   3800.052849    0.110898  \n",
       "2068              2889.958858   3037.589445    0.088646  \n",
       "2517               541.578539   2847.756076    0.083107  \n",
       "951                894.018339   2528.493310    0.073789  \n",
       "1839               525.515686   2393.765300    0.069858  \n",
       "1518               395.959044   2151.952224    0.062801  \n",
       "900               4644.564655   2130.496224    0.062175  "
      ]
     },
     "execution_count": 38,
     "metadata": {},
     "output_type": "execute_result"
    }
   ],
   "source": [
    "scaler = MinMaxScaler(feature_range=(0, 1))\n",
    "scaler.fit(cltv_final[[\"clv\"]])\n",
    "cltv_final[\"scaled_clv\"] = scaler.transform(cltv_final[[\"clv\"]])\n",
    "cltv_final.sort_values(by=\"scaled_clv\", ascending=False).head(10)"
   ]
  },
  {
   "cell_type": "markdown",
   "metadata": {},
   "source": [
    "## Segmentation of Scaled CLV Values "
   ]
  },
  {
   "cell_type": "markdown",
   "metadata": {},
   "source": [
    "We divide the final values we get into segments so that we can apply different strategies for each group."
   ]
  },
  {
   "cell_type": "code",
   "execution_count": 39,
   "metadata": {
    "execution": {
     "iopub.execute_input": "2021-09-19T18:39:24.749044Z",
     "iopub.status.busy": "2021-09-19T18:39:24.748331Z",
     "iopub.status.idle": "2021-09-19T18:39:24.781309Z",
     "shell.execute_reply": "2021-09-19T18:39:24.780327Z",
     "shell.execute_reply.started": "2021-09-19T18:39:24.748999Z"
    }
   },
   "outputs": [
    {
     "data": {
      "text/html": [
       "<div>\n",
       "<style scoped>\n",
       "    .dataframe tbody tr th:only-of-type {\n",
       "        vertical-align: middle;\n",
       "    }\n",
       "\n",
       "    .dataframe tbody tr th {\n",
       "        vertical-align: top;\n",
       "    }\n",
       "\n",
       "    .dataframe thead th {\n",
       "        text-align: right;\n",
       "    }\n",
       "</style>\n",
       "<table border=\"1\" class=\"dataframe\">\n",
       "  <thead>\n",
       "    <tr style=\"text-align: right;\">\n",
       "      <th></th>\n",
       "      <th>Customer ID</th>\n",
       "      <th>recency</th>\n",
       "      <th>T</th>\n",
       "      <th>frequency</th>\n",
       "      <th>monetary</th>\n",
       "      <th>expected_purc_1_week</th>\n",
       "      <th>expected_purc_1_month</th>\n",
       "      <th>expected_purc_3_month</th>\n",
       "      <th>expected_average_profit</th>\n",
       "      <th>clv</th>\n",
       "      <th>scaled_clv</th>\n",
       "      <th>segment</th>\n",
       "    </tr>\n",
       "  </thead>\n",
       "  <tbody>\n",
       "    <tr>\n",
       "      <th>2244</th>\n",
       "      <td>16000.0</td>\n",
       "      <td>0.571429</td>\n",
       "      <td>0.571429</td>\n",
       "      <td>3</td>\n",
       "      <td>2167.520000</td>\n",
       "      <td>3.360455</td>\n",
       "      <td>7.967858</td>\n",
       "      <td>12.365927</td>\n",
       "      <td>2299.526650</td>\n",
       "      <td>34266.340334</td>\n",
       "      <td>1.000000</td>\n",
       "      <td>A</td>\n",
       "    </tr>\n",
       "    <tr>\n",
       "      <th>3778</th>\n",
       "      <td>18139.0</td>\n",
       "      <td>2.714286</td>\n",
       "      <td>2.714286</td>\n",
       "      <td>6</td>\n",
       "      <td>1406.390000</td>\n",
       "      <td>1.827204</td>\n",
       "      <td>5.626592</td>\n",
       "      <td>10.892412</td>\n",
       "      <td>1448.189646</td>\n",
       "      <td>21387.049664</td>\n",
       "      <td>0.624142</td>\n",
       "      <td>A</td>\n",
       "    </tr>\n",
       "    <tr>\n",
       "      <th>3349</th>\n",
       "      <td>17509.0</td>\n",
       "      <td>8.428571</td>\n",
       "      <td>9.142857</td>\n",
       "      <td>8</td>\n",
       "      <td>764.392500</td>\n",
       "      <td>0.729306</td>\n",
       "      <td>2.615684</td>\n",
       "      <td>6.231307</td>\n",
       "      <td>781.527226</td>\n",
       "      <td>7700.067514</td>\n",
       "      <td>0.224712</td>\n",
       "      <td>A</td>\n",
       "    </tr>\n",
       "    <tr>\n",
       "      <th>3057</th>\n",
       "      <td>17100.0</td>\n",
       "      <td>2.714286</td>\n",
       "      <td>2.714286</td>\n",
       "      <td>2</td>\n",
       "      <td>485.870000</td>\n",
       "      <td>0.660463</td>\n",
       "      <td>2.213817</td>\n",
       "      <td>4.811533</td>\n",
       "      <td>533.231626</td>\n",
       "      <td>3800.052849</td>\n",
       "      <td>0.110898</td>\n",
       "      <td>A</td>\n",
       "    </tr>\n",
       "    <tr>\n",
       "      <th>2068</th>\n",
       "      <td>15749.0</td>\n",
       "      <td>33.714286</td>\n",
       "      <td>47.571429</td>\n",
       "      <td>3</td>\n",
       "      <td>2724.380000</td>\n",
       "      <td>0.047018</td>\n",
       "      <td>0.185151</td>\n",
       "      <td>0.533713</td>\n",
       "      <td>2889.958858</td>\n",
       "      <td>3037.589445</td>\n",
       "      <td>0.088646</td>\n",
       "      <td>A</td>\n",
       "    </tr>\n",
       "    <tr>\n",
       "      <th>...</th>\n",
       "      <td>...</td>\n",
       "      <td>...</td>\n",
       "      <td>...</td>\n",
       "      <td>...</td>\n",
       "      <td>...</td>\n",
       "      <td>...</td>\n",
       "      <td>...</td>\n",
       "      <td>...</td>\n",
       "      <td>...</td>\n",
       "      <td>...</td>\n",
       "      <td>...</td>\n",
       "      <td>...</td>\n",
       "    </tr>\n",
       "    <tr>\n",
       "      <th>1763</th>\n",
       "      <td>15311.0</td>\n",
       "      <td>0.285714</td>\n",
       "      <td>105.714286</td>\n",
       "      <td>208</td>\n",
       "      <td>560.296130</td>\n",
       "      <td>0.000000</td>\n",
       "      <td>0.000000</td>\n",
       "      <td>0.000000</td>\n",
       "      <td>560.774118</td>\n",
       "      <td>0.000000</td>\n",
       "      <td>0.000000</td>\n",
       "      <td>D</td>\n",
       "    </tr>\n",
       "    <tr>\n",
       "      <th>3760</th>\n",
       "      <td>18102.0</td>\n",
       "      <td>0.285714</td>\n",
       "      <td>105.714286</td>\n",
       "      <td>145</td>\n",
       "      <td>3506.606517</td>\n",
       "      <td>0.000000</td>\n",
       "      <td>0.000000</td>\n",
       "      <td>0.000000</td>\n",
       "      <td>3510.762614</td>\n",
       "      <td>0.000000</td>\n",
       "      <td>0.000000</td>\n",
       "      <td>D</td>\n",
       "    </tr>\n",
       "    <tr>\n",
       "      <th>1272</th>\n",
       "      <td>14606.0</td>\n",
       "      <td>0.285714</td>\n",
       "      <td>105.428571</td>\n",
       "      <td>192</td>\n",
       "      <td>159.986615</td>\n",
       "      <td>0.000000</td>\n",
       "      <td>0.000000</td>\n",
       "      <td>0.000000</td>\n",
       "      <td>160.148502</td>\n",
       "      <td>0.000000</td>\n",
       "      <td>0.000000</td>\n",
       "      <td>D</td>\n",
       "    </tr>\n",
       "    <tr>\n",
       "      <th>3</th>\n",
       "      <td>12748.0</td>\n",
       "      <td>0.285714</td>\n",
       "      <td>105.142857</td>\n",
       "      <td>336</td>\n",
       "      <td>156.497321</td>\n",
       "      <td>0.000000</td>\n",
       "      <td>0.000000</td>\n",
       "      <td>0.000000</td>\n",
       "      <td>156.588021</td>\n",
       "      <td>0.000000</td>\n",
       "      <td>0.000000</td>\n",
       "      <td>D</td>\n",
       "    </tr>\n",
       "    <tr>\n",
       "      <th>197</th>\n",
       "      <td>13089.0</td>\n",
       "      <td>0.571429</td>\n",
       "      <td>105.428571</td>\n",
       "      <td>203</td>\n",
       "      <td>574.522611</td>\n",
       "      <td>0.000000</td>\n",
       "      <td>0.000000</td>\n",
       "      <td>0.000000</td>\n",
       "      <td>575.024346</td>\n",
       "      <td>0.000000</td>\n",
       "      <td>0.000000</td>\n",
       "      <td>D</td>\n",
       "    </tr>\n",
       "  </tbody>\n",
       "</table>\n",
       "<p>3876 rows × 12 columns</p>\n",
       "</div>"
      ],
      "text/plain": [
       "      Customer ID    recency           T  frequency     monetary  \\\n",
       "2244      16000.0   0.571429    0.571429          3  2167.520000   \n",
       "3778      18139.0   2.714286    2.714286          6  1406.390000   \n",
       "3349      17509.0   8.428571    9.142857          8   764.392500   \n",
       "3057      17100.0   2.714286    2.714286          2   485.870000   \n",
       "2068      15749.0  33.714286   47.571429          3  2724.380000   \n",
       "...           ...        ...         ...        ...          ...   \n",
       "1763      15311.0   0.285714  105.714286        208   560.296130   \n",
       "3760      18102.0   0.285714  105.714286        145  3506.606517   \n",
       "1272      14606.0   0.285714  105.428571        192   159.986615   \n",
       "3         12748.0   0.285714  105.142857        336   156.497321   \n",
       "197       13089.0   0.571429  105.428571        203   574.522611   \n",
       "\n",
       "      expected_purc_1_week  expected_purc_1_month  expected_purc_3_month  \\\n",
       "2244              3.360455               7.967858              12.365927   \n",
       "3778              1.827204               5.626592              10.892412   \n",
       "3349              0.729306               2.615684               6.231307   \n",
       "3057              0.660463               2.213817               4.811533   \n",
       "2068              0.047018               0.185151               0.533713   \n",
       "...                    ...                    ...                    ...   \n",
       "1763              0.000000               0.000000               0.000000   \n",
       "3760              0.000000               0.000000               0.000000   \n",
       "1272              0.000000               0.000000               0.000000   \n",
       "3                 0.000000               0.000000               0.000000   \n",
       "197               0.000000               0.000000               0.000000   \n",
       "\n",
       "      expected_average_profit           clv  scaled_clv segment  \n",
       "2244              2299.526650  34266.340334    1.000000       A  \n",
       "3778              1448.189646  21387.049664    0.624142       A  \n",
       "3349               781.527226   7700.067514    0.224712       A  \n",
       "3057               533.231626   3800.052849    0.110898       A  \n",
       "2068              2889.958858   3037.589445    0.088646       A  \n",
       "...                       ...           ...         ...     ...  \n",
       "1763               560.774118      0.000000    0.000000       D  \n",
       "3760              3510.762614      0.000000    0.000000       D  \n",
       "1272               160.148502      0.000000    0.000000       D  \n",
       "3                  156.588021      0.000000    0.000000       D  \n",
       "197                575.024346      0.000000    0.000000       D  \n",
       "\n",
       "[3876 rows x 12 columns]"
      ]
     },
     "execution_count": 39,
     "metadata": {},
     "output_type": "execute_result"
    }
   ],
   "source": [
    "cltv_final[\"segment\"] = pd.qcut(cltv_final[\"clv\"], 4, labels=[\"D\", \"C\", \"B\", \"A\"])\n",
    "cltv_final.sort_values(by=\"scaled_clv\", ascending=False)"
   ]
  },
  {
   "cell_type": "markdown",
   "metadata": {
    "execution": {
     "iopub.execute_input": "2021-09-15T21:42:33.152182Z",
     "iopub.status.busy": "2021-09-15T21:42:33.151222Z",
     "iopub.status.idle": "2021-09-15T21:42:33.15892Z",
     "shell.execute_reply": "2021-09-15T21:42:33.15787Z",
     "shell.execute_reply.started": "2021-09-15T21:42:33.152124Z"
    }
   },
   "source": [
    "To work on segments, we can group according to their mean, count and sum values. Thus, we will have obtained very useful insights for each group before the marketing actions we will take."
   ]
  },
  {
   "cell_type": "code",
   "execution_count": 40,
   "metadata": {
    "execution": {
     "iopub.execute_input": "2021-09-19T18:39:28.087884Z",
     "iopub.status.busy": "2021-09-19T18:39:28.087601Z",
     "iopub.status.idle": "2021-09-19T18:39:28.136562Z",
     "shell.execute_reply": "2021-09-19T18:39:28.135554Z",
     "shell.execute_reply.started": "2021-09-19T18:39:28.087857Z"
    }
   },
   "outputs": [
    {
     "data": {
      "text/html": [
       "<div>\n",
       "<style scoped>\n",
       "    .dataframe tbody tr th:only-of-type {\n",
       "        vertical-align: middle;\n",
       "    }\n",
       "\n",
       "    .dataframe tbody tr th {\n",
       "        vertical-align: top;\n",
       "    }\n",
       "\n",
       "    .dataframe thead th {\n",
       "        text-align: right;\n",
       "    }\n",
       "</style>\n",
       "<table border=\"1\" class=\"dataframe\">\n",
       "  <thead>\n",
       "    <tr style=\"text-align: right;\">\n",
       "      <th></th>\n",
       "      <th>count</th>\n",
       "      <th>mean</th>\n",
       "      <th>std</th>\n",
       "      <th>min</th>\n",
       "      <th>25%</th>\n",
       "      <th>50%</th>\n",
       "      <th>75%</th>\n",
       "      <th>max</th>\n",
       "    </tr>\n",
       "  </thead>\n",
       "  <tbody>\n",
       "    <tr>\n",
       "      <th>Customer ID</th>\n",
       "      <td>3876.0</td>\n",
       "      <td>15546.646285</td>\n",
       "      <td>1568.935952</td>\n",
       "      <td>12346.000000</td>\n",
       "      <td>1.418525e+04</td>\n",
       "      <td>15569.500000</td>\n",
       "      <td>16894.250000</td>\n",
       "      <td>18287.000000</td>\n",
       "    </tr>\n",
       "    <tr>\n",
       "      <th>recency</th>\n",
       "      <td>3876.0</td>\n",
       "      <td>20.677908</td>\n",
       "      <td>24.168575</td>\n",
       "      <td>0.285714</td>\n",
       "      <td>2.857143e+00</td>\n",
       "      <td>8.714286</td>\n",
       "      <td>32.714286</td>\n",
       "      <td>105.571429</td>\n",
       "    </tr>\n",
       "    <tr>\n",
       "      <th>T</th>\n",
       "      <td>3876.0</td>\n",
       "      <td>75.131763</td>\n",
       "      <td>28.940691</td>\n",
       "      <td>0.571429</td>\n",
       "      <td>5.885714e+01</td>\n",
       "      <td>84.571429</td>\n",
       "      <td>98.714286</td>\n",
       "      <td>105.714286</td>\n",
       "    </tr>\n",
       "    <tr>\n",
       "      <th>frequency</th>\n",
       "      <td>3876.0</td>\n",
       "      <td>8.273220</td>\n",
       "      <td>13.566502</td>\n",
       "      <td>2.000000</td>\n",
       "      <td>3.000000e+00</td>\n",
       "      <td>5.000000</td>\n",
       "      <td>9.000000</td>\n",
       "      <td>336.000000</td>\n",
       "    </tr>\n",
       "    <tr>\n",
       "      <th>monetary</th>\n",
       "      <td>3876.0</td>\n",
       "      <td>339.605823</td>\n",
       "      <td>260.834882</td>\n",
       "      <td>7.737500</td>\n",
       "      <td>1.922600e+02</td>\n",
       "      <td>285.070500</td>\n",
       "      <td>408.155813</td>\n",
       "      <td>4246.545000</td>\n",
       "    </tr>\n",
       "    <tr>\n",
       "      <th>expected_purc_1_week</th>\n",
       "      <td>3876.0</td>\n",
       "      <td>0.016528</td>\n",
       "      <td>0.082728</td>\n",
       "      <td>0.000000</td>\n",
       "      <td>1.438167e-11</td>\n",
       "      <td>0.000100</td>\n",
       "      <td>0.017087</td>\n",
       "      <td>3.360455</td>\n",
       "    </tr>\n",
       "    <tr>\n",
       "      <th>expected_purc_1_month</th>\n",
       "      <td>3876.0</td>\n",
       "      <td>0.060507</td>\n",
       "      <td>0.239980</td>\n",
       "      <td>0.000000</td>\n",
       "      <td>5.677080e-11</td>\n",
       "      <td>0.000379</td>\n",
       "      <td>0.067774</td>\n",
       "      <td>7.967858</td>\n",
       "    </tr>\n",
       "    <tr>\n",
       "      <th>expected_purc_3_month</th>\n",
       "      <td>3876.0</td>\n",
       "      <td>0.158700</td>\n",
       "      <td>0.486950</td>\n",
       "      <td>0.000000</td>\n",
       "      <td>1.635167e-10</td>\n",
       "      <td>0.001105</td>\n",
       "      <td>0.198409</td>\n",
       "      <td>12.365927</td>\n",
       "    </tr>\n",
       "    <tr>\n",
       "      <th>expected_average_profit</th>\n",
       "      <td>3876.0</td>\n",
       "      <td>354.929180</td>\n",
       "      <td>270.392375</td>\n",
       "      <td>9.065075</td>\n",
       "      <td>2.031408e+02</td>\n",
       "      <td>299.355666</td>\n",
       "      <td>424.432250</td>\n",
       "      <td>4644.564655</td>\n",
       "    </tr>\n",
       "    <tr>\n",
       "      <th>clv</th>\n",
       "      <td>3876.0</td>\n",
       "      <td>104.712417</td>\n",
       "      <td>697.733938</td>\n",
       "      <td>0.000000</td>\n",
       "      <td>9.733428e-08</td>\n",
       "      <td>0.599710</td>\n",
       "      <td>88.118700</td>\n",
       "      <td>34266.340334</td>\n",
       "    </tr>\n",
       "    <tr>\n",
       "      <th>scaled_clv</th>\n",
       "      <td>3876.0</td>\n",
       "      <td>0.003056</td>\n",
       "      <td>0.020362</td>\n",
       "      <td>0.000000</td>\n",
       "      <td>2.840522e-12</td>\n",
       "      <td>0.000018</td>\n",
       "      <td>0.002572</td>\n",
       "      <td>1.000000</td>\n",
       "    </tr>\n",
       "  </tbody>\n",
       "</table>\n",
       "</div>"
      ],
      "text/plain": [
       "                          count          mean          std           min  \\\n",
       "Customer ID              3876.0  15546.646285  1568.935952  12346.000000   \n",
       "recency                  3876.0     20.677908    24.168575      0.285714   \n",
       "T                        3876.0     75.131763    28.940691      0.571429   \n",
       "frequency                3876.0      8.273220    13.566502      2.000000   \n",
       "monetary                 3876.0    339.605823   260.834882      7.737500   \n",
       "expected_purc_1_week     3876.0      0.016528     0.082728      0.000000   \n",
       "expected_purc_1_month    3876.0      0.060507     0.239980      0.000000   \n",
       "expected_purc_3_month    3876.0      0.158700     0.486950      0.000000   \n",
       "expected_average_profit  3876.0    354.929180   270.392375      9.065075   \n",
       "clv                      3876.0    104.712417   697.733938      0.000000   \n",
       "scaled_clv               3876.0      0.003056     0.020362      0.000000   \n",
       "\n",
       "                                  25%           50%           75%  \\\n",
       "Customer ID              1.418525e+04  15569.500000  16894.250000   \n",
       "recency                  2.857143e+00      8.714286     32.714286   \n",
       "T                        5.885714e+01     84.571429     98.714286   \n",
       "frequency                3.000000e+00      5.000000      9.000000   \n",
       "monetary                 1.922600e+02    285.070500    408.155813   \n",
       "expected_purc_1_week     1.438167e-11      0.000100      0.017087   \n",
       "expected_purc_1_month    5.677080e-11      0.000379      0.067774   \n",
       "expected_purc_3_month    1.635167e-10      0.001105      0.198409   \n",
       "expected_average_profit  2.031408e+02    299.355666    424.432250   \n",
       "clv                      9.733428e-08      0.599710     88.118700   \n",
       "scaled_clv               2.840522e-12      0.000018      0.002572   \n",
       "\n",
       "                                  max  \n",
       "Customer ID              18287.000000  \n",
       "recency                    105.571429  \n",
       "T                          105.714286  \n",
       "frequency                  336.000000  \n",
       "monetary                  4246.545000  \n",
       "expected_purc_1_week         3.360455  \n",
       "expected_purc_1_month        7.967858  \n",
       "expected_purc_3_month       12.365927  \n",
       "expected_average_profit   4644.564655  \n",
       "clv                      34266.340334  \n",
       "scaled_clv                   1.000000  "
      ]
     },
     "execution_count": 40,
     "metadata": {},
     "output_type": "execute_result"
    }
   ],
   "source": [
    "cltv_final.describe().T"
   ]
  },
  {
   "cell_type": "markdown",
   "metadata": {},
   "source": [
    "# References:\n",
    "[1] https://www.seedrs.com/academy/how-to-calculate-customer-lifetime-value/\n",
    "\n",
    "[2] Fader, P. S., Hardie, B. G., & Lee, K. L. (2008). Computing P (alive) using the BG/NBD model.\n",
    "\n",
    "[3] Jasek, P., Vrana, L., Sperkova, L., Smutny, Z., & Kobulsky, M. (2019). Comparative analysis of selected probabilistic customer lifetime value models in online shopping. Journal of Business Economics and Management, 20(3), 398-423.\n",
    "\n",
    "[4] Venkatakrishna, M. R., Mishra, M. P., & Tiwari, M. S. P. Customer Lifetime Value Prediction and Segmentation using Machine Learning.\n"
   ]
  }
 ],
 "metadata": {
  "kernelspec": {
   "display_name": "Python 3 (ipykernel)",
   "language": "python",
   "name": "python3"
  },
  "language_info": {
   "codemirror_mode": {
    "name": "ipython",
    "version": 3
   },
   "file_extension": ".py",
   "mimetype": "text/x-python",
   "name": "python",
   "nbconvert_exporter": "python",
   "pygments_lexer": "ipython3",
   "version": "3.10.12"
  }
 },
 "nbformat": 4,
 "nbformat_minor": 4
}
