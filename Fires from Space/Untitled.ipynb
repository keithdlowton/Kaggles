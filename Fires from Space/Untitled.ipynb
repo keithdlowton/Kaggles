{
 "cells": [
  {
   "cell_type": "code",
   "execution_count": 4,
   "id": "ec9daad8",
   "metadata": {},
   "outputs": [],
   "source": [
    "import pandas as pd\n",
    "import numpy as np\n",
    "import plotly.graph_objects as go"
   ]
  },
  {
   "cell_type": "code",
   "execution_count": 16,
   "id": "49dac71f",
   "metadata": {},
   "outputs": [
    {
     "ename": "ModuleNotFoundError",
     "evalue": "No module named 'kaggle_secrets'",
     "output_type": "error",
     "traceback": [
      "\u001b[0;31m---------------------------------------------------------------------------\u001b[0m",
      "\u001b[0;31mModuleNotFoundError\u001b[0m                       Traceback (most recent call last)",
      "Cell \u001b[0;32mIn[16], line 1\u001b[0m\n\u001b[0;32m----> 1\u001b[0m \u001b[38;5;28;01mfrom\u001b[39;00m \u001b[38;5;21;01mkaggle_secrets\u001b[39;00m \u001b[38;5;28;01mimport\u001b[39;00m UserSecretsClient\n\u001b[1;32m      2\u001b[0m user_secrets \u001b[38;5;241m=\u001b[39m UserSecretsClient()\n\u001b[1;32m      3\u001b[0m MAPBOX_TOKEN \u001b[38;5;241m=\u001b[39m user_secrets\u001b[38;5;241m.\u001b[39mget_secret(\u001b[38;5;124m\"\u001b[39m\u001b[38;5;124mmapbox_token\u001b[39m\u001b[38;5;124m\"\u001b[39m)\n",
      "\u001b[0;31mModuleNotFoundError\u001b[0m: No module named 'kaggle_secrets'"
     ]
    }
   ],
   "source": [
    "from kaggle_secrets import UserSecretsClient\n",
    "user_secrets = UserSecretsClient()\n",
    "MAPBOX_TOKEN = user_secrets.get_secret(\"mapbox_token\")\n",
    "MAPBOX_STYLE = user_secrets.get_secret(\"mapbox_style\")"
   ]
  },
  {
   "cell_type": "code",
   "execution_count": 5,
   "id": "6cd3934b",
   "metadata": {},
   "outputs": [],
   "source": [
    "def to_hour_str(number):\n",
    "    string = '{:04d}'.format(number)\n",
    "    string = string[:2] + ':' + string[2:]\n",
    "    return string\n",
    "\n"
   ]
  },
  {
   "cell_type": "code",
   "execution_count": 6,
   "id": "836ebe0e",
   "metadata": {},
   "outputs": [
    {
     "name": "stdout",
     "output_type": "stream",
     "text": [
      "(36011, 15)\n"
     ]
    }
   ],
   "source": [
    "fires = pd.read_csv(\"archive/fire_archive_M6_96619.csv\")\n",
    "print(fires.shape)\n"
   ]
  },
  {
   "cell_type": "code",
   "execution_count": 7,
   "id": "70ab92ee",
   "metadata": {},
   "outputs": [],
   "source": [
    "fires['acq_datestring'] = fires.apply(lambda r: r['acq_date'] + \" \" + to_hour_str(r['acq_time']), axis=1)"
   ]
  },
  {
   "cell_type": "code",
   "execution_count": 8,
   "id": "db50832e",
   "metadata": {},
   "outputs": [
    {
     "data": {
      "text/html": [
       "<div>\n",
       "<style scoped>\n",
       "    .dataframe tbody tr th:only-of-type {\n",
       "        vertical-align: middle;\n",
       "    }\n",
       "\n",
       "    .dataframe tbody tr th {\n",
       "        vertical-align: top;\n",
       "    }\n",
       "\n",
       "    .dataframe thead th {\n",
       "        text-align: right;\n",
       "    }\n",
       "</style>\n",
       "<table border=\"1\" class=\"dataframe\">\n",
       "  <thead>\n",
       "    <tr style=\"text-align: right;\">\n",
       "      <th></th>\n",
       "      <th>latitude</th>\n",
       "      <th>longitude</th>\n",
       "      <th>brightness</th>\n",
       "      <th>scan</th>\n",
       "      <th>track</th>\n",
       "      <th>acq_date</th>\n",
       "      <th>acq_time</th>\n",
       "      <th>satellite</th>\n",
       "      <th>instrument</th>\n",
       "      <th>confidence</th>\n",
       "      <th>version</th>\n",
       "      <th>bright_t31</th>\n",
       "      <th>frp</th>\n",
       "      <th>daynight</th>\n",
       "      <th>type</th>\n",
       "      <th>acq_datestring</th>\n",
       "    </tr>\n",
       "  </thead>\n",
       "  <tbody>\n",
       "    <tr>\n",
       "      <th>0</th>\n",
       "      <td>-11.8070</td>\n",
       "      <td>142.0583</td>\n",
       "      <td>313.0</td>\n",
       "      <td>1.0</td>\n",
       "      <td>1.0</td>\n",
       "      <td>2019-08-01</td>\n",
       "      <td>56</td>\n",
       "      <td>Terra</td>\n",
       "      <td>MODIS</td>\n",
       "      <td>48</td>\n",
       "      <td>6.3</td>\n",
       "      <td>297.3</td>\n",
       "      <td>6.6</td>\n",
       "      <td>D</td>\n",
       "      <td>0</td>\n",
       "      <td>2019-08-01 00:56</td>\n",
       "    </tr>\n",
       "    <tr>\n",
       "      <th>1</th>\n",
       "      <td>-11.7924</td>\n",
       "      <td>142.0850</td>\n",
       "      <td>319.3</td>\n",
       "      <td>1.0</td>\n",
       "      <td>1.0</td>\n",
       "      <td>2019-08-01</td>\n",
       "      <td>56</td>\n",
       "      <td>Terra</td>\n",
       "      <td>MODIS</td>\n",
       "      <td>71</td>\n",
       "      <td>6.3</td>\n",
       "      <td>297.3</td>\n",
       "      <td>11.3</td>\n",
       "      <td>D</td>\n",
       "      <td>0</td>\n",
       "      <td>2019-08-01 00:56</td>\n",
       "    </tr>\n",
       "    <tr>\n",
       "      <th>2</th>\n",
       "      <td>-12.8398</td>\n",
       "      <td>132.8744</td>\n",
       "      <td>311.6</td>\n",
       "      <td>3.1</td>\n",
       "      <td>1.7</td>\n",
       "      <td>2019-08-01</td>\n",
       "      <td>57</td>\n",
       "      <td>Terra</td>\n",
       "      <td>MODIS</td>\n",
       "      <td>42</td>\n",
       "      <td>6.3</td>\n",
       "      <td>298.7</td>\n",
       "      <td>23.1</td>\n",
       "      <td>D</td>\n",
       "      <td>0</td>\n",
       "      <td>2019-08-01 00:57</td>\n",
       "    </tr>\n",
       "    <tr>\n",
       "      <th>3</th>\n",
       "      <td>-14.4306</td>\n",
       "      <td>143.3035</td>\n",
       "      <td>310.1</td>\n",
       "      <td>1.1</td>\n",
       "      <td>1.1</td>\n",
       "      <td>2019-08-01</td>\n",
       "      <td>57</td>\n",
       "      <td>Terra</td>\n",
       "      <td>MODIS</td>\n",
       "      <td>33</td>\n",
       "      <td>6.3</td>\n",
       "      <td>296.1</td>\n",
       "      <td>6.5</td>\n",
       "      <td>D</td>\n",
       "      <td>0</td>\n",
       "      <td>2019-08-01 00:57</td>\n",
       "    </tr>\n",
       "    <tr>\n",
       "      <th>4</th>\n",
       "      <td>-12.4953</td>\n",
       "      <td>131.4897</td>\n",
       "      <td>310.3</td>\n",
       "      <td>4.0</td>\n",
       "      <td>1.9</td>\n",
       "      <td>2019-08-01</td>\n",
       "      <td>57</td>\n",
       "      <td>Terra</td>\n",
       "      <td>MODIS</td>\n",
       "      <td>36</td>\n",
       "      <td>6.3</td>\n",
       "      <td>298.8</td>\n",
       "      <td>27.6</td>\n",
       "      <td>D</td>\n",
       "      <td>0</td>\n",
       "      <td>2019-08-01 00:57</td>\n",
       "    </tr>\n",
       "  </tbody>\n",
       "</table>\n",
       "</div>"
      ],
      "text/plain": [
       "   latitude  longitude  brightness  scan  track    acq_date  acq_time  \\\n",
       "0  -11.8070   142.0583       313.0   1.0    1.0  2019-08-01        56   \n",
       "1  -11.7924   142.0850       319.3   1.0    1.0  2019-08-01        56   \n",
       "2  -12.8398   132.8744       311.6   3.1    1.7  2019-08-01        57   \n",
       "3  -14.4306   143.3035       310.1   1.1    1.1  2019-08-01        57   \n",
       "4  -12.4953   131.4897       310.3   4.0    1.9  2019-08-01        57   \n",
       "\n",
       "  satellite instrument  confidence  version  bright_t31   frp daynight  type  \\\n",
       "0     Terra      MODIS          48      6.3       297.3   6.6        D     0   \n",
       "1     Terra      MODIS          71      6.3       297.3  11.3        D     0   \n",
       "2     Terra      MODIS          42      6.3       298.7  23.1        D     0   \n",
       "3     Terra      MODIS          33      6.3       296.1   6.5        D     0   \n",
       "4     Terra      MODIS          36      6.3       298.8  27.6        D     0   \n",
       "\n",
       "     acq_datestring  \n",
       "0  2019-08-01 00:56  \n",
       "1  2019-08-01 00:56  \n",
       "2  2019-08-01 00:57  \n",
       "3  2019-08-01 00:57  \n",
       "4  2019-08-01 00:57  "
      ]
     },
     "execution_count": 8,
     "metadata": {},
     "output_type": "execute_result"
    }
   ],
   "source": [
    "fires.head()"
   ]
  },
  {
   "cell_type": "code",
   "execution_count": 9,
   "id": "96c58676",
   "metadata": {},
   "outputs": [],
   "source": [
    "times = fires.groupby(['acq_date'])['acq_date'].count().index.tolist()\n",
    "frames_data = [fires.loc[fires['acq_date'] == t] for t in times]"
   ]
  },
  {
   "cell_type": "code",
   "execution_count": 10,
   "id": "51a05ddd",
   "metadata": {},
   "outputs": [],
   "source": [
    "frames= [go.Frame(data=[go.Densitymapbox(lat=f['latitude'], lon=f['longitude'], z=f['brightness'], radius=10)], name=str(f.iloc[0]['acq_date'])) for f in frames_data]"
   ]
  },
  {
   "cell_type": "code",
   "execution_count": 11,
   "id": "08cfab50",
   "metadata": {},
   "outputs": [],
   "source": [
    "buttons=[\n",
    "         dict(label=\"Play\",method=\"animate\",args=[None, {'fromcurrent':True, \"transition\": {\"duration\": 30, \"easing\": \"quadratic-in-out\"}}]),\n",
    "         dict(label=\"Pause\",method=\"animate\",args=[[None], {\"frame\": {\"duration\": 0, \"redraw\": False},\"mode\": \"immediate\", \"transition\": {\"duration\": 0}}])\n",
    "]\n",
    "\n",
    "\n",
    "sliders_dict = {\n",
    "    'active':0,\n",
    "    'currentvalue': dict(font=dict(size=16), prefix='Time: ', visible=True),\n",
    "    \"transition\": {\"duration\": 300, \"easing\": \"cubic-in-out\"},\n",
    "    'x': 0,\n",
    "    'steps': []\n",
    "}\n",
    "\n",
    "for i,t in enumerate(times):\n",
    "    slider_step = {\"args\": [\n",
    "                        [t],\n",
    "                        {\"frame\": {\"duration\": 300, \"redraw\": False},\n",
    "                         #\"mode\": \"immediate\",\n",
    "                         \"transition\": {\"duration\": 30, \"easing\": \"quadratic-in-out\"}}\n",
    "                    ],\n",
    "            \"label\": t,\n",
    "            \"method\": \"animate\",\n",
    "            \"value\": t\n",
    "    }\n",
    "    sliders_dict['steps'].append(slider_step)"
   ]
  },
  {
   "cell_type": "code",
   "execution_count": 12,
   "id": "3f21dc39",
   "metadata": {},
   "outputs": [
    {
     "ename": "NameError",
     "evalue": "name 'MAPBOX_STYLE' is not defined",
     "output_type": "error",
     "traceback": [
      "\u001b[0;31m---------------------------------------------------------------------------\u001b[0m",
      "\u001b[0;31mNameError\u001b[0m                                 Traceback (most recent call last)",
      "Cell \u001b[0;32mIn[12], line 6\u001b[0m\n\u001b[1;32m      1\u001b[0m fig \u001b[38;5;241m=\u001b[39m go\u001b[38;5;241m.\u001b[39mFigure(data \u001b[38;5;241m=\u001b[39m [go\u001b[38;5;241m.\u001b[39mDensitymapbox(lat\u001b[38;5;241m=\u001b[39mfires[\u001b[38;5;124m'\u001b[39m\u001b[38;5;124mlatitude\u001b[39m\u001b[38;5;124m'\u001b[39m], lon\u001b[38;5;241m=\u001b[39mfires[\u001b[38;5;124m'\u001b[39m\u001b[38;5;124mlongitude\u001b[39m\u001b[38;5;124m'\u001b[39m], z\u001b[38;5;241m=\u001b[39mfires[\u001b[38;5;124m'\u001b[39m\u001b[38;5;124mbrightness\u001b[39m\u001b[38;5;124m'\u001b[39m], radius\u001b[38;5;241m=\u001b[39m\u001b[38;5;241m1\u001b[39m, colorscale\u001b[38;5;241m=\u001b[39m\u001b[38;5;124m'\u001b[39m\u001b[38;5;124mHot\u001b[39m\u001b[38;5;124m'\u001b[39m, zmax\u001b[38;5;241m=\u001b[39m\u001b[38;5;241m400\u001b[39m, zmin\u001b[38;5;241m=\u001b[39m\u001b[38;5;241m0\u001b[39m)],\n\u001b[1;32m      2\u001b[0m                layout\u001b[38;5;241m=\u001b[39mgo\u001b[38;5;241m.\u001b[39mLayout(updatemenus\u001b[38;5;241m=\u001b[39m[\u001b[38;5;28mdict\u001b[39m(\u001b[38;5;28mtype\u001b[39m\u001b[38;5;241m=\u001b[39m\u001b[38;5;124m\"\u001b[39m\u001b[38;5;124mbuttons\u001b[39m\u001b[38;5;124m\"\u001b[39m, buttons\u001b[38;5;241m=\u001b[39mbuttons,showactive\u001b[38;5;241m=\u001b[39m\u001b[38;5;28;01mTrue\u001b[39;00m)] ), \n\u001b[1;32m      3\u001b[0m                frames\u001b[38;5;241m=\u001b[39mframes\n\u001b[1;32m      4\u001b[0m )\n\u001b[0;32m----> 6\u001b[0m fig\u001b[38;5;241m.\u001b[39mupdate_layout(mapbox_style\u001b[38;5;241m=\u001b[39m\u001b[43mMAPBOX_STYLE\u001b[49m, \n\u001b[1;32m      7\u001b[0m                   mapbox_accesstoken\u001b[38;5;241m=\u001b[39mMAPBOX_TOKEN,\n\u001b[1;32m      8\u001b[0m                   mapbox_center_lon\u001b[38;5;241m=\u001b[39m\u001b[38;5;241m135\u001b[39m,\n\u001b[1;32m      9\u001b[0m                   mapbox_center_lat\u001b[38;5;241m=\u001b[39m\u001b[38;5;241m-\u001b[39m\u001b[38;5;241m25.34\u001b[39m,\n\u001b[1;32m     10\u001b[0m                   mapbox_zoom\u001b[38;5;241m=\u001b[39m\u001b[38;5;241m3.5\u001b[39m)\n\u001b[1;32m     12\u001b[0m \u001b[38;5;124;03m\"\"\"fig.update_layout(mapbox_style=\"stamen-terrain\", \u001b[39;00m\n\u001b[1;32m     13\u001b[0m \u001b[38;5;124;03m                  mapbox_center_lon=135,\u001b[39;00m\n\u001b[1;32m     14\u001b[0m \u001b[38;5;124;03m                  mapbox_center_lat=-25.34,\u001b[39;00m\n\u001b[1;32m     15\u001b[0m \u001b[38;5;124;03m                  mapbox_zoom=3.5)\"\"\"\u001b[39;00m\n\u001b[1;32m     18\u001b[0m fig\u001b[38;5;241m.\u001b[39mupdate_layout(sliders\u001b[38;5;241m=\u001b[39m[sliders_dict],\n\u001b[1;32m     19\u001b[0m                  title\u001b[38;5;241m=\u001b[39m\u001b[38;5;124m'\u001b[39m\u001b[38;5;124mAustralia fires over time\u001b[39m\u001b[38;5;124m'\u001b[39m)\n",
      "\u001b[0;31mNameError\u001b[0m: name 'MAPBOX_STYLE' is not defined"
     ]
    }
   ],
   "source": [
    "fig = go.Figure(data = [go.Densitymapbox(lat=fires['latitude'], lon=fires['longitude'], z=fires['brightness'], radius=1, colorscale='Hot', zmax=400, zmin=0)],\n",
    "               layout=go.Layout(updatemenus=[dict(type=\"buttons\", buttons=buttons,showactive=True)] ), \n",
    "               frames=frames\n",
    ")\n",
    "\n",
    "fig.update_layout(mapbox_style=MAPBOX_STYLE, \n",
    "                  mapbox_accesstoken=MAPBOX_TOKEN,\n",
    "                  mapbox_center_lon=135,\n",
    "                  mapbox_center_lat=-25.34,\n",
    "                  mapbox_zoom=3.5)\n",
    "\n",
    "\"\"\"fig.update_layout(mapbox_style=\"stamen-terrain\", \n",
    "                  mapbox_center_lon=135,\n",
    "                  mapbox_center_lat=-25.34,\n",
    "                  mapbox_zoom=3.5)\"\"\"\n",
    "\n",
    "\n",
    "fig.update_layout(sliders=[sliders_dict],\n",
    "                 title='Australia fires over time')\n",
    "\n",
    "fig.update_layout(height=850)\n",
    "fig.show()\n"
   ]
  }
 ],
 "metadata": {
  "kernelspec": {
   "display_name": "Python 3 (ipykernel)",
   "language": "python",
   "name": "python3"
  },
  "language_info": {
   "codemirror_mode": {
    "name": "ipython",
    "version": 3
   },
   "file_extension": ".py",
   "mimetype": "text/x-python",
   "name": "python",
   "nbconvert_exporter": "python",
   "pygments_lexer": "ipython3",
   "version": "3.10.12"
  }
 },
 "nbformat": 4,
 "nbformat_minor": 5
}
